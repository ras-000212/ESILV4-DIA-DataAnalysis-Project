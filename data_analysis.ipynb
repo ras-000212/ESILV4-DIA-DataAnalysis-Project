{
  "cells": [
    {
      "cell_type": "markdown",
      "id": "4e6ae66e",
      "metadata": {
        "id": "4e6ae66e"
      },
      "source": [
        "# Python for Data Analysis Project"
      ]
    },
    {
      "cell_type": "markdown",
      "id": "9a116480",
      "metadata": {
        "id": "9a116480"
      },
      "source": [
        "## Import"
      ]
    },
    {
      "cell_type": "code",
      "execution_count": 2,
      "id": "59511cdb",
      "metadata": {
        "id": "59511cdb"
      },
      "outputs": [],
      "source": [
        "import warnings\n",
        "import pandas as pd\n",
        "import seaborn as sns\n",
        "import numpy as np\n",
        "import matplotlib.pyplot as plt\n",
        "import pickle\n",
        "import sklearn\n",
        "sns.set_theme(style=\"whitegrid\")"
      ]
    },
    {
      "cell_type": "markdown",
      "id": "3a03cb5a",
      "metadata": {
        "id": "3a03cb5a"
      },
      "source": [
        "## Data Import"
      ]
    },
    {
      "cell_type": "code",
      "execution_count": 3,
      "id": "d30cc204",
      "metadata": {
        "id": "d30cc204"
      },
      "outputs": [],
      "source": [
        "df = pd.read_csv(\"drug_consumption.data\", header = None)\n",
        "df.set_axis([\"ID\", \"Age\", \"Gender\", \"Education\", \"Country\", \"Ethnicity\", \"Nscore\", \"Escore\", \"Oscore\", \"Ascore\", \"Cscore\", \"Impulsive\", \"SS\", \"Alcohol Consum\", \"Amphet Consum\", \"Amyl Consum\", \"Benzos Consum\", \"Caff Consum\", \"Cannabis Consum\", \"Choc Consum\", \"Coke Consum\", \"Crack Consum\", \"Ecstasy Consum\", \"Heroin Consum\", \"Ketamine Consum\", \"Legalh Consum\", \"LSD Consum\", \"Meth Consum\", \"Mushrooms Consum\", \"Nicotine Consum\", \"Semeron Consum\", \"VSA Consum\"], axis = 1, inplace = True)"
      ]
    },
    {
      "cell_type": "code",
      "execution_count": 4,
      "id": "2c7c5909",
      "metadata": {
        "colab": {
          "base_uri": "https://localhost:8080/",
          "height": 505
        },
        "id": "2c7c5909",
        "outputId": "f1f43746-b704-413b-e0f3-07c5e87eacf6"
      },
      "outputs": [
        {
          "data": {
            "text/html": [
              "<div>\n",
              "<style scoped>\n",
              "    .dataframe tbody tr th:only-of-type {\n",
              "        vertical-align: middle;\n",
              "    }\n",
              "\n",
              "    .dataframe tbody tr th {\n",
              "        vertical-align: top;\n",
              "    }\n",
              "\n",
              "    .dataframe thead th {\n",
              "        text-align: right;\n",
              "    }\n",
              "</style>\n",
              "<table border=\"1\" class=\"dataframe\">\n",
              "  <thead>\n",
              "    <tr style=\"text-align: right;\">\n",
              "      <th></th>\n",
              "      <th>ID</th>\n",
              "      <th>Age</th>\n",
              "      <th>Gender</th>\n",
              "      <th>Education</th>\n",
              "      <th>Country</th>\n",
              "      <th>Ethnicity</th>\n",
              "      <th>Nscore</th>\n",
              "      <th>Escore</th>\n",
              "      <th>Oscore</th>\n",
              "      <th>Ascore</th>\n",
              "      <th>Cscore</th>\n",
              "      <th>Impulsive</th>\n",
              "      <th>SS</th>\n",
              "      <th>Alcohol Consum</th>\n",
              "      <th>Amphet Consum</th>\n",
              "      <th>Amyl Consum</th>\n",
              "      <th>Benzos Consum</th>\n",
              "      <th>Caff Consum</th>\n",
              "      <th>Cannabis Consum</th>\n",
              "      <th>Choc Consum</th>\n",
              "      <th>Coke Consum</th>\n",
              "      <th>Crack Consum</th>\n",
              "      <th>Ecstasy Consum</th>\n",
              "      <th>Heroin Consum</th>\n",
              "      <th>Ketamine Consum</th>\n",
              "      <th>Legalh Consum</th>\n",
              "      <th>LSD Consum</th>\n",
              "      <th>Meth Consum</th>\n",
              "      <th>Mushrooms Consum</th>\n",
              "      <th>Nicotine Consum</th>\n",
              "      <th>Semeron Consum</th>\n",
              "      <th>VSA Consum</th>\n",
              "    </tr>\n",
              "  </thead>\n",
              "  <tbody>\n",
              "    <tr>\n",
              "      <th>0</th>\n",
              "      <td>1</td>\n",
              "      <td>0.49788</td>\n",
              "      <td>0.48246</td>\n",
              "      <td>-0.05921</td>\n",
              "      <td>0.96082</td>\n",
              "      <td>0.12600</td>\n",
              "      <td>0.31287</td>\n",
              "      <td>-0.57545</td>\n",
              "      <td>-0.58331</td>\n",
              "      <td>-0.91699</td>\n",
              "      <td>-0.00665</td>\n",
              "      <td>-0.21712</td>\n",
              "      <td>-1.18084</td>\n",
              "      <td>CL5</td>\n",
              "      <td>CL2</td>\n",
              "      <td>CL0</td>\n",
              "      <td>CL2</td>\n",
              "      <td>CL6</td>\n",
              "      <td>CL0</td>\n",
              "      <td>CL5</td>\n",
              "      <td>CL0</td>\n",
              "      <td>CL0</td>\n",
              "      <td>CL0</td>\n",
              "      <td>CL0</td>\n",
              "      <td>CL0</td>\n",
              "      <td>CL0</td>\n",
              "      <td>CL0</td>\n",
              "      <td>CL0</td>\n",
              "      <td>CL0</td>\n",
              "      <td>CL2</td>\n",
              "      <td>CL0</td>\n",
              "      <td>CL0</td>\n",
              "    </tr>\n",
              "    <tr>\n",
              "      <th>1</th>\n",
              "      <td>2</td>\n",
              "      <td>-0.07854</td>\n",
              "      <td>-0.48246</td>\n",
              "      <td>1.98437</td>\n",
              "      <td>0.96082</td>\n",
              "      <td>-0.31685</td>\n",
              "      <td>-0.67825</td>\n",
              "      <td>1.93886</td>\n",
              "      <td>1.43533</td>\n",
              "      <td>0.76096</td>\n",
              "      <td>-0.14277</td>\n",
              "      <td>-0.71126</td>\n",
              "      <td>-0.21575</td>\n",
              "      <td>CL5</td>\n",
              "      <td>CL2</td>\n",
              "      <td>CL2</td>\n",
              "      <td>CL0</td>\n",
              "      <td>CL6</td>\n",
              "      <td>CL4</td>\n",
              "      <td>CL6</td>\n",
              "      <td>CL3</td>\n",
              "      <td>CL0</td>\n",
              "      <td>CL4</td>\n",
              "      <td>CL0</td>\n",
              "      <td>CL2</td>\n",
              "      <td>CL0</td>\n",
              "      <td>CL2</td>\n",
              "      <td>CL3</td>\n",
              "      <td>CL0</td>\n",
              "      <td>CL4</td>\n",
              "      <td>CL0</td>\n",
              "      <td>CL0</td>\n",
              "    </tr>\n",
              "    <tr>\n",
              "      <th>2</th>\n",
              "      <td>3</td>\n",
              "      <td>0.49788</td>\n",
              "      <td>-0.48246</td>\n",
              "      <td>-0.05921</td>\n",
              "      <td>0.96082</td>\n",
              "      <td>-0.31685</td>\n",
              "      <td>-0.46725</td>\n",
              "      <td>0.80523</td>\n",
              "      <td>-0.84732</td>\n",
              "      <td>-1.62090</td>\n",
              "      <td>-1.01450</td>\n",
              "      <td>-1.37983</td>\n",
              "      <td>0.40148</td>\n",
              "      <td>CL6</td>\n",
              "      <td>CL0</td>\n",
              "      <td>CL0</td>\n",
              "      <td>CL0</td>\n",
              "      <td>CL6</td>\n",
              "      <td>CL3</td>\n",
              "      <td>CL4</td>\n",
              "      <td>CL0</td>\n",
              "      <td>CL0</td>\n",
              "      <td>CL0</td>\n",
              "      <td>CL0</td>\n",
              "      <td>CL0</td>\n",
              "      <td>CL0</td>\n",
              "      <td>CL0</td>\n",
              "      <td>CL0</td>\n",
              "      <td>CL1</td>\n",
              "      <td>CL0</td>\n",
              "      <td>CL0</td>\n",
              "      <td>CL0</td>\n",
              "    </tr>\n",
              "    <tr>\n",
              "      <th>3</th>\n",
              "      <td>4</td>\n",
              "      <td>-0.95197</td>\n",
              "      <td>0.48246</td>\n",
              "      <td>1.16365</td>\n",
              "      <td>0.96082</td>\n",
              "      <td>-0.31685</td>\n",
              "      <td>-0.14882</td>\n",
              "      <td>-0.80615</td>\n",
              "      <td>-0.01928</td>\n",
              "      <td>0.59042</td>\n",
              "      <td>0.58489</td>\n",
              "      <td>-1.37983</td>\n",
              "      <td>-1.18084</td>\n",
              "      <td>CL4</td>\n",
              "      <td>CL0</td>\n",
              "      <td>CL0</td>\n",
              "      <td>CL3</td>\n",
              "      <td>CL5</td>\n",
              "      <td>CL2</td>\n",
              "      <td>CL4</td>\n",
              "      <td>CL2</td>\n",
              "      <td>CL0</td>\n",
              "      <td>CL0</td>\n",
              "      <td>CL0</td>\n",
              "      <td>CL2</td>\n",
              "      <td>CL0</td>\n",
              "      <td>CL0</td>\n",
              "      <td>CL0</td>\n",
              "      <td>CL0</td>\n",
              "      <td>CL2</td>\n",
              "      <td>CL0</td>\n",
              "      <td>CL0</td>\n",
              "    </tr>\n",
              "    <tr>\n",
              "      <th>4</th>\n",
              "      <td>5</td>\n",
              "      <td>0.49788</td>\n",
              "      <td>0.48246</td>\n",
              "      <td>1.98437</td>\n",
              "      <td>0.96082</td>\n",
              "      <td>-0.31685</td>\n",
              "      <td>0.73545</td>\n",
              "      <td>-1.63340</td>\n",
              "      <td>-0.45174</td>\n",
              "      <td>-0.30172</td>\n",
              "      <td>1.30612</td>\n",
              "      <td>-0.21712</td>\n",
              "      <td>-0.21575</td>\n",
              "      <td>CL4</td>\n",
              "      <td>CL1</td>\n",
              "      <td>CL1</td>\n",
              "      <td>CL0</td>\n",
              "      <td>CL6</td>\n",
              "      <td>CL3</td>\n",
              "      <td>CL6</td>\n",
              "      <td>CL0</td>\n",
              "      <td>CL0</td>\n",
              "      <td>CL1</td>\n",
              "      <td>CL0</td>\n",
              "      <td>CL0</td>\n",
              "      <td>CL1</td>\n",
              "      <td>CL0</td>\n",
              "      <td>CL0</td>\n",
              "      <td>CL2</td>\n",
              "      <td>CL2</td>\n",
              "      <td>CL0</td>\n",
              "      <td>CL0</td>\n",
              "    </tr>\n",
              "    <tr>\n",
              "      <th>...</th>\n",
              "      <td>...</td>\n",
              "      <td>...</td>\n",
              "      <td>...</td>\n",
              "      <td>...</td>\n",
              "      <td>...</td>\n",
              "      <td>...</td>\n",
              "      <td>...</td>\n",
              "      <td>...</td>\n",
              "      <td>...</td>\n",
              "      <td>...</td>\n",
              "      <td>...</td>\n",
              "      <td>...</td>\n",
              "      <td>...</td>\n",
              "      <td>...</td>\n",
              "      <td>...</td>\n",
              "      <td>...</td>\n",
              "      <td>...</td>\n",
              "      <td>...</td>\n",
              "      <td>...</td>\n",
              "      <td>...</td>\n",
              "      <td>...</td>\n",
              "      <td>...</td>\n",
              "      <td>...</td>\n",
              "      <td>...</td>\n",
              "      <td>...</td>\n",
              "      <td>...</td>\n",
              "      <td>...</td>\n",
              "      <td>...</td>\n",
              "      <td>...</td>\n",
              "      <td>...</td>\n",
              "      <td>...</td>\n",
              "      <td>...</td>\n",
              "    </tr>\n",
              "    <tr>\n",
              "      <th>1880</th>\n",
              "      <td>1884</td>\n",
              "      <td>-0.95197</td>\n",
              "      <td>0.48246</td>\n",
              "      <td>-0.61113</td>\n",
              "      <td>-0.57009</td>\n",
              "      <td>-0.31685</td>\n",
              "      <td>-1.19430</td>\n",
              "      <td>1.74091</td>\n",
              "      <td>1.88511</td>\n",
              "      <td>0.76096</td>\n",
              "      <td>-1.13788</td>\n",
              "      <td>0.88113</td>\n",
              "      <td>1.92173</td>\n",
              "      <td>CL5</td>\n",
              "      <td>CL0</td>\n",
              "      <td>CL0</td>\n",
              "      <td>CL0</td>\n",
              "      <td>CL4</td>\n",
              "      <td>CL5</td>\n",
              "      <td>CL4</td>\n",
              "      <td>CL0</td>\n",
              "      <td>CL0</td>\n",
              "      <td>CL0</td>\n",
              "      <td>CL0</td>\n",
              "      <td>CL0</td>\n",
              "      <td>CL3</td>\n",
              "      <td>CL3</td>\n",
              "      <td>CL0</td>\n",
              "      <td>CL0</td>\n",
              "      <td>CL0</td>\n",
              "      <td>CL0</td>\n",
              "      <td>CL5</td>\n",
              "    </tr>\n",
              "    <tr>\n",
              "      <th>1881</th>\n",
              "      <td>1885</td>\n",
              "      <td>-0.95197</td>\n",
              "      <td>-0.48246</td>\n",
              "      <td>-0.61113</td>\n",
              "      <td>-0.57009</td>\n",
              "      <td>-0.31685</td>\n",
              "      <td>-0.24649</td>\n",
              "      <td>1.74091</td>\n",
              "      <td>0.58331</td>\n",
              "      <td>0.76096</td>\n",
              "      <td>-1.51840</td>\n",
              "      <td>0.88113</td>\n",
              "      <td>0.76540</td>\n",
              "      <td>CL5</td>\n",
              "      <td>CL0</td>\n",
              "      <td>CL0</td>\n",
              "      <td>CL0</td>\n",
              "      <td>CL5</td>\n",
              "      <td>CL3</td>\n",
              "      <td>CL4</td>\n",
              "      <td>CL0</td>\n",
              "      <td>CL0</td>\n",
              "      <td>CL2</td>\n",
              "      <td>CL0</td>\n",
              "      <td>CL0</td>\n",
              "      <td>CL3</td>\n",
              "      <td>CL5</td>\n",
              "      <td>CL4</td>\n",
              "      <td>CL4</td>\n",
              "      <td>CL5</td>\n",
              "      <td>CL0</td>\n",
              "      <td>CL0</td>\n",
              "    </tr>\n",
              "    <tr>\n",
              "      <th>1882</th>\n",
              "      <td>1886</td>\n",
              "      <td>-0.07854</td>\n",
              "      <td>0.48246</td>\n",
              "      <td>0.45468</td>\n",
              "      <td>-0.57009</td>\n",
              "      <td>-0.31685</td>\n",
              "      <td>1.13281</td>\n",
              "      <td>-1.37639</td>\n",
              "      <td>-1.27553</td>\n",
              "      <td>-1.77200</td>\n",
              "      <td>-1.38502</td>\n",
              "      <td>0.52975</td>\n",
              "      <td>-0.52593</td>\n",
              "      <td>CL4</td>\n",
              "      <td>CL6</td>\n",
              "      <td>CL5</td>\n",
              "      <td>CL5</td>\n",
              "      <td>CL6</td>\n",
              "      <td>CL6</td>\n",
              "      <td>CL6</td>\n",
              "      <td>CL4</td>\n",
              "      <td>CL0</td>\n",
              "      <td>CL4</td>\n",
              "      <td>CL0</td>\n",
              "      <td>CL2</td>\n",
              "      <td>CL0</td>\n",
              "      <td>CL2</td>\n",
              "      <td>CL0</td>\n",
              "      <td>CL2</td>\n",
              "      <td>CL6</td>\n",
              "      <td>CL0</td>\n",
              "      <td>CL0</td>\n",
              "    </tr>\n",
              "    <tr>\n",
              "      <th>1883</th>\n",
              "      <td>1887</td>\n",
              "      <td>-0.95197</td>\n",
              "      <td>0.48246</td>\n",
              "      <td>-0.61113</td>\n",
              "      <td>-0.57009</td>\n",
              "      <td>-0.31685</td>\n",
              "      <td>0.91093</td>\n",
              "      <td>-1.92173</td>\n",
              "      <td>0.29338</td>\n",
              "      <td>-1.62090</td>\n",
              "      <td>-2.57309</td>\n",
              "      <td>1.29221</td>\n",
              "      <td>1.22470</td>\n",
              "      <td>CL5</td>\n",
              "      <td>CL0</td>\n",
              "      <td>CL0</td>\n",
              "      <td>CL0</td>\n",
              "      <td>CL6</td>\n",
              "      <td>CL6</td>\n",
              "      <td>CL5</td>\n",
              "      <td>CL0</td>\n",
              "      <td>CL0</td>\n",
              "      <td>CL3</td>\n",
              "      <td>CL0</td>\n",
              "      <td>CL0</td>\n",
              "      <td>CL3</td>\n",
              "      <td>CL3</td>\n",
              "      <td>CL0</td>\n",
              "      <td>CL3</td>\n",
              "      <td>CL4</td>\n",
              "      <td>CL0</td>\n",
              "      <td>CL0</td>\n",
              "    </tr>\n",
              "    <tr>\n",
              "      <th>1884</th>\n",
              "      <td>1888</td>\n",
              "      <td>-0.95197</td>\n",
              "      <td>-0.48246</td>\n",
              "      <td>-0.61113</td>\n",
              "      <td>0.21128</td>\n",
              "      <td>-0.31685</td>\n",
              "      <td>-0.46725</td>\n",
              "      <td>2.12700</td>\n",
              "      <td>1.65653</td>\n",
              "      <td>1.11406</td>\n",
              "      <td>0.41594</td>\n",
              "      <td>0.88113</td>\n",
              "      <td>1.22470</td>\n",
              "      <td>CL4</td>\n",
              "      <td>CL3</td>\n",
              "      <td>CL0</td>\n",
              "      <td>CL3</td>\n",
              "      <td>CL6</td>\n",
              "      <td>CL3</td>\n",
              "      <td>CL6</td>\n",
              "      <td>CL3</td>\n",
              "      <td>CL0</td>\n",
              "      <td>CL3</td>\n",
              "      <td>CL0</td>\n",
              "      <td>CL0</td>\n",
              "      <td>CL3</td>\n",
              "      <td>CL3</td>\n",
              "      <td>CL0</td>\n",
              "      <td>CL3</td>\n",
              "      <td>CL6</td>\n",
              "      <td>CL0</td>\n",
              "      <td>CL2</td>\n",
              "    </tr>\n",
              "  </tbody>\n",
              "</table>\n",
              "<p>1885 rows × 32 columns</p>\n",
              "</div>"
            ],
            "text/plain": [
              "        ID      Age   Gender  Education  Country  Ethnicity   Nscore   Escore  \\\n",
              "0        1  0.49788  0.48246   -0.05921  0.96082    0.12600  0.31287 -0.57545   \n",
              "1        2 -0.07854 -0.48246    1.98437  0.96082   -0.31685 -0.67825  1.93886   \n",
              "2        3  0.49788 -0.48246   -0.05921  0.96082   -0.31685 -0.46725  0.80523   \n",
              "3        4 -0.95197  0.48246    1.16365  0.96082   -0.31685 -0.14882 -0.80615   \n",
              "4        5  0.49788  0.48246    1.98437  0.96082   -0.31685  0.73545 -1.63340   \n",
              "...    ...      ...      ...        ...      ...        ...      ...      ...   \n",
              "1880  1884 -0.95197  0.48246   -0.61113 -0.57009   -0.31685 -1.19430  1.74091   \n",
              "1881  1885 -0.95197 -0.48246   -0.61113 -0.57009   -0.31685 -0.24649  1.74091   \n",
              "1882  1886 -0.07854  0.48246    0.45468 -0.57009   -0.31685  1.13281 -1.37639   \n",
              "1883  1887 -0.95197  0.48246   -0.61113 -0.57009   -0.31685  0.91093 -1.92173   \n",
              "1884  1888 -0.95197 -0.48246   -0.61113  0.21128   -0.31685 -0.46725  2.12700   \n",
              "\n",
              "       Oscore   Ascore   Cscore  Impulsive       SS Alcohol Consum  \\\n",
              "0    -0.58331 -0.91699 -0.00665   -0.21712 -1.18084            CL5   \n",
              "1     1.43533  0.76096 -0.14277   -0.71126 -0.21575            CL5   \n",
              "2    -0.84732 -1.62090 -1.01450   -1.37983  0.40148            CL6   \n",
              "3    -0.01928  0.59042  0.58489   -1.37983 -1.18084            CL4   \n",
              "4    -0.45174 -0.30172  1.30612   -0.21712 -0.21575            CL4   \n",
              "...       ...      ...      ...        ...      ...            ...   \n",
              "1880  1.88511  0.76096 -1.13788    0.88113  1.92173            CL5   \n",
              "1881  0.58331  0.76096 -1.51840    0.88113  0.76540            CL5   \n",
              "1882 -1.27553 -1.77200 -1.38502    0.52975 -0.52593            CL4   \n",
              "1883  0.29338 -1.62090 -2.57309    1.29221  1.22470            CL5   \n",
              "1884  1.65653  1.11406  0.41594    0.88113  1.22470            CL4   \n",
              "\n",
              "     Amphet Consum Amyl Consum Benzos Consum Caff Consum Cannabis Consum  \\\n",
              "0              CL2         CL0           CL2         CL6             CL0   \n",
              "1              CL2         CL2           CL0         CL6             CL4   \n",
              "2              CL0         CL0           CL0         CL6             CL3   \n",
              "3              CL0         CL0           CL3         CL5             CL2   \n",
              "4              CL1         CL1           CL0         CL6             CL3   \n",
              "...            ...         ...           ...         ...             ...   \n",
              "1880           CL0         CL0           CL0         CL4             CL5   \n",
              "1881           CL0         CL0           CL0         CL5             CL3   \n",
              "1882           CL6         CL5           CL5         CL6             CL6   \n",
              "1883           CL0         CL0           CL0         CL6             CL6   \n",
              "1884           CL3         CL0           CL3         CL6             CL3   \n",
              "\n",
              "     Choc Consum Coke Consum Crack Consum Ecstasy Consum Heroin Consum  \\\n",
              "0            CL5         CL0          CL0            CL0           CL0   \n",
              "1            CL6         CL3          CL0            CL4           CL0   \n",
              "2            CL4         CL0          CL0            CL0           CL0   \n",
              "3            CL4         CL2          CL0            CL0           CL0   \n",
              "4            CL6         CL0          CL0            CL1           CL0   \n",
              "...          ...         ...          ...            ...           ...   \n",
              "1880         CL4         CL0          CL0            CL0           CL0   \n",
              "1881         CL4         CL0          CL0            CL2           CL0   \n",
              "1882         CL6         CL4          CL0            CL4           CL0   \n",
              "1883         CL5         CL0          CL0            CL3           CL0   \n",
              "1884         CL6         CL3          CL0            CL3           CL0   \n",
              "\n",
              "     Ketamine Consum Legalh Consum LSD Consum Meth Consum Mushrooms Consum  \\\n",
              "0                CL0           CL0        CL0         CL0              CL0   \n",
              "1                CL2           CL0        CL2         CL3              CL0   \n",
              "2                CL0           CL0        CL0         CL0              CL1   \n",
              "3                CL2           CL0        CL0         CL0              CL0   \n",
              "4                CL0           CL1        CL0         CL0              CL2   \n",
              "...              ...           ...        ...         ...              ...   \n",
              "1880             CL0           CL3        CL3         CL0              CL0   \n",
              "1881             CL0           CL3        CL5         CL4              CL4   \n",
              "1882             CL2           CL0        CL2         CL0              CL2   \n",
              "1883             CL0           CL3        CL3         CL0              CL3   \n",
              "1884             CL0           CL3        CL3         CL0              CL3   \n",
              "\n",
              "     Nicotine Consum Semeron Consum VSA Consum  \n",
              "0                CL2            CL0        CL0  \n",
              "1                CL4            CL0        CL0  \n",
              "2                CL0            CL0        CL0  \n",
              "3                CL2            CL0        CL0  \n",
              "4                CL2            CL0        CL0  \n",
              "...              ...            ...        ...  \n",
              "1880             CL0            CL0        CL5  \n",
              "1881             CL5            CL0        CL0  \n",
              "1882             CL6            CL0        CL0  \n",
              "1883             CL4            CL0        CL0  \n",
              "1884             CL6            CL0        CL2  \n",
              "\n",
              "[1885 rows x 32 columns]"
            ]
          },
          "execution_count": 4,
          "metadata": {},
          "output_type": "execute_result"
        }
      ],
      "source": [
        "pd.set_option(\"display.max_columns\", None)\n",
        "df"
      ]
    },
    {
      "cell_type": "code",
      "execution_count": 5,
      "id": "7eb241ae",
      "metadata": {
        "colab": {
          "base_uri": "https://localhost:8080/",
          "height": 300
        },
        "id": "7eb241ae",
        "outputId": "33a48e4d-39e5-4a85-fa81-cb8abab9afe8"
      },
      "outputs": [
        {
          "data": {
            "text/html": [
              "<div>\n",
              "<style scoped>\n",
              "    .dataframe tbody tr th:only-of-type {\n",
              "        vertical-align: middle;\n",
              "    }\n",
              "\n",
              "    .dataframe tbody tr th {\n",
              "        vertical-align: top;\n",
              "    }\n",
              "\n",
              "    .dataframe thead th {\n",
              "        text-align: right;\n",
              "    }\n",
              "</style>\n",
              "<table border=\"1\" class=\"dataframe\">\n",
              "  <thead>\n",
              "    <tr style=\"text-align: right;\">\n",
              "      <th></th>\n",
              "      <th>ID</th>\n",
              "      <th>Age</th>\n",
              "      <th>Gender</th>\n",
              "      <th>Education</th>\n",
              "      <th>Country</th>\n",
              "      <th>Ethnicity</th>\n",
              "      <th>Nscore</th>\n",
              "      <th>Escore</th>\n",
              "      <th>Oscore</th>\n",
              "      <th>Ascore</th>\n",
              "      <th>Cscore</th>\n",
              "      <th>Impulsive</th>\n",
              "      <th>SS</th>\n",
              "    </tr>\n",
              "  </thead>\n",
              "  <tbody>\n",
              "    <tr>\n",
              "      <th>count</th>\n",
              "      <td>1885.000000</td>\n",
              "      <td>1885.00000</td>\n",
              "      <td>1885.000000</td>\n",
              "      <td>1885.000000</td>\n",
              "      <td>1885.000000</td>\n",
              "      <td>1885.000000</td>\n",
              "      <td>1885.000000</td>\n",
              "      <td>1885.000000</td>\n",
              "      <td>1885.000000</td>\n",
              "      <td>1885.000000</td>\n",
              "      <td>1885.000000</td>\n",
              "      <td>1885.000000</td>\n",
              "      <td>1885.000000</td>\n",
              "    </tr>\n",
              "    <tr>\n",
              "      <th>mean</th>\n",
              "      <td>945.294960</td>\n",
              "      <td>0.03461</td>\n",
              "      <td>-0.000256</td>\n",
              "      <td>-0.003806</td>\n",
              "      <td>0.355542</td>\n",
              "      <td>-0.309577</td>\n",
              "      <td>0.000047</td>\n",
              "      <td>-0.000163</td>\n",
              "      <td>-0.000534</td>\n",
              "      <td>-0.000245</td>\n",
              "      <td>-0.000386</td>\n",
              "      <td>0.007216</td>\n",
              "      <td>-0.003292</td>\n",
              "    </tr>\n",
              "    <tr>\n",
              "      <th>std</th>\n",
              "      <td>545.167641</td>\n",
              "      <td>0.87836</td>\n",
              "      <td>0.482588</td>\n",
              "      <td>0.950078</td>\n",
              "      <td>0.700335</td>\n",
              "      <td>0.166226</td>\n",
              "      <td>0.998106</td>\n",
              "      <td>0.997448</td>\n",
              "      <td>0.996229</td>\n",
              "      <td>0.997440</td>\n",
              "      <td>0.997523</td>\n",
              "      <td>0.954435</td>\n",
              "      <td>0.963701</td>\n",
              "    </tr>\n",
              "    <tr>\n",
              "      <th>min</th>\n",
              "      <td>1.000000</td>\n",
              "      <td>-0.95197</td>\n",
              "      <td>-0.482460</td>\n",
              "      <td>-2.435910</td>\n",
              "      <td>-0.570090</td>\n",
              "      <td>-1.107020</td>\n",
              "      <td>-3.464360</td>\n",
              "      <td>-3.273930</td>\n",
              "      <td>-3.273930</td>\n",
              "      <td>-3.464360</td>\n",
              "      <td>-3.464360</td>\n",
              "      <td>-2.555240</td>\n",
              "      <td>-2.078480</td>\n",
              "    </tr>\n",
              "    <tr>\n",
              "      <th>25%</th>\n",
              "      <td>474.000000</td>\n",
              "      <td>-0.95197</td>\n",
              "      <td>-0.482460</td>\n",
              "      <td>-0.611130</td>\n",
              "      <td>-0.570090</td>\n",
              "      <td>-0.316850</td>\n",
              "      <td>-0.678250</td>\n",
              "      <td>-0.695090</td>\n",
              "      <td>-0.717270</td>\n",
              "      <td>-0.606330</td>\n",
              "      <td>-0.652530</td>\n",
              "      <td>-0.711260</td>\n",
              "      <td>-0.525930</td>\n",
              "    </tr>\n",
              "    <tr>\n",
              "      <th>50%</th>\n",
              "      <td>946.000000</td>\n",
              "      <td>-0.07854</td>\n",
              "      <td>-0.482460</td>\n",
              "      <td>-0.059210</td>\n",
              "      <td>0.960820</td>\n",
              "      <td>-0.316850</td>\n",
              "      <td>0.042570</td>\n",
              "      <td>0.003320</td>\n",
              "      <td>-0.019280</td>\n",
              "      <td>-0.017290</td>\n",
              "      <td>-0.006650</td>\n",
              "      <td>-0.217120</td>\n",
              "      <td>0.079870</td>\n",
              "    </tr>\n",
              "    <tr>\n",
              "      <th>75%</th>\n",
              "      <td>1417.000000</td>\n",
              "      <td>0.49788</td>\n",
              "      <td>0.482460</td>\n",
              "      <td>0.454680</td>\n",
              "      <td>0.960820</td>\n",
              "      <td>-0.316850</td>\n",
              "      <td>0.629670</td>\n",
              "      <td>0.637790</td>\n",
              "      <td>0.723300</td>\n",
              "      <td>0.760960</td>\n",
              "      <td>0.584890</td>\n",
              "      <td>0.529750</td>\n",
              "      <td>0.765400</td>\n",
              "    </tr>\n",
              "    <tr>\n",
              "      <th>max</th>\n",
              "      <td>1888.000000</td>\n",
              "      <td>2.59171</td>\n",
              "      <td>0.482460</td>\n",
              "      <td>1.984370</td>\n",
              "      <td>0.960820</td>\n",
              "      <td>1.907250</td>\n",
              "      <td>3.273930</td>\n",
              "      <td>3.273930</td>\n",
              "      <td>2.901610</td>\n",
              "      <td>3.464360</td>\n",
              "      <td>3.464360</td>\n",
              "      <td>2.901610</td>\n",
              "      <td>1.921730</td>\n",
              "    </tr>\n",
              "  </tbody>\n",
              "</table>\n",
              "</div>"
            ],
            "text/plain": [
              "                ID         Age       Gender    Education      Country  \\\n",
              "count  1885.000000  1885.00000  1885.000000  1885.000000  1885.000000   \n",
              "mean    945.294960     0.03461    -0.000256    -0.003806     0.355542   \n",
              "std     545.167641     0.87836     0.482588     0.950078     0.700335   \n",
              "min       1.000000    -0.95197    -0.482460    -2.435910    -0.570090   \n",
              "25%     474.000000    -0.95197    -0.482460    -0.611130    -0.570090   \n",
              "50%     946.000000    -0.07854    -0.482460    -0.059210     0.960820   \n",
              "75%    1417.000000     0.49788     0.482460     0.454680     0.960820   \n",
              "max    1888.000000     2.59171     0.482460     1.984370     0.960820   \n",
              "\n",
              "         Ethnicity       Nscore       Escore       Oscore       Ascore  \\\n",
              "count  1885.000000  1885.000000  1885.000000  1885.000000  1885.000000   \n",
              "mean     -0.309577     0.000047    -0.000163    -0.000534    -0.000245   \n",
              "std       0.166226     0.998106     0.997448     0.996229     0.997440   \n",
              "min      -1.107020    -3.464360    -3.273930    -3.273930    -3.464360   \n",
              "25%      -0.316850    -0.678250    -0.695090    -0.717270    -0.606330   \n",
              "50%      -0.316850     0.042570     0.003320    -0.019280    -0.017290   \n",
              "75%      -0.316850     0.629670     0.637790     0.723300     0.760960   \n",
              "max       1.907250     3.273930     3.273930     2.901610     3.464360   \n",
              "\n",
              "            Cscore    Impulsive           SS  \n",
              "count  1885.000000  1885.000000  1885.000000  \n",
              "mean     -0.000386     0.007216    -0.003292  \n",
              "std       0.997523     0.954435     0.963701  \n",
              "min      -3.464360    -2.555240    -2.078480  \n",
              "25%      -0.652530    -0.711260    -0.525930  \n",
              "50%      -0.006650    -0.217120     0.079870  \n",
              "75%       0.584890     0.529750     0.765400  \n",
              "max       3.464360     2.901610     1.921730  "
            ]
          },
          "execution_count": 5,
          "metadata": {},
          "output_type": "execute_result"
        }
      ],
      "source": [
        "df.describe()"
      ]
    },
    {
      "cell_type": "code",
      "execution_count": 6,
      "id": "ac44fbf0",
      "metadata": {
        "colab": {
          "base_uri": "https://localhost:8080/"
        },
        "id": "ac44fbf0",
        "outputId": "9b409386-909b-4ef7-bdbd-bdff9aaa7f7d"
      },
      "outputs": [
        {
          "data": {
            "text/plain": [
              "ID                    int64\n",
              "Age                 float64\n",
              "Gender              float64\n",
              "Education           float64\n",
              "Country             float64\n",
              "Ethnicity           float64\n",
              "Nscore              float64\n",
              "Escore              float64\n",
              "Oscore              float64\n",
              "Ascore              float64\n",
              "Cscore              float64\n",
              "Impulsive           float64\n",
              "SS                  float64\n",
              "Alcohol Consum       object\n",
              "Amphet Consum        object\n",
              "Amyl Consum          object\n",
              "Benzos Consum        object\n",
              "Caff Consum          object\n",
              "Cannabis Consum      object\n",
              "Choc Consum          object\n",
              "Coke Consum          object\n",
              "Crack Consum         object\n",
              "Ecstasy Consum       object\n",
              "Heroin Consum        object\n",
              "Ketamine Consum      object\n",
              "Legalh Consum        object\n",
              "LSD Consum           object\n",
              "Meth Consum          object\n",
              "Mushrooms Consum     object\n",
              "Nicotine Consum      object\n",
              "Semeron Consum       object\n",
              "VSA Consum           object\n",
              "dtype: object"
            ]
          },
          "execution_count": 6,
          "metadata": {},
          "output_type": "execute_result"
        }
      ],
      "source": [
        "df.dtypes"
      ]
    },
    {
      "cell_type": "markdown",
      "id": "4685b60e",
      "metadata": {
        "id": "4685b60e"
      },
      "source": [
        "# Functions"
      ]
    },
    {
      "cell_type": "code",
      "execution_count": 7,
      "id": "424312f1",
      "metadata": {
        "id": "424312f1"
      },
      "outputs": [],
      "source": [
        "def df_count_perc(df,column):\n",
        "    count = df[column].value_counts()\n",
        "    perc = df[column].value_counts(normalize=True) * 100\n",
        "    \n",
        "    return pd.concat([count,perc.round(2)], axis=1, keys=['N', '%'])"
      ]
    },
    {
      "cell_type": "markdown",
      "id": "9bba008f",
      "metadata": {
        "id": "9bba008f"
      },
      "source": [
        "# Data cleaning"
      ]
    },
    {
      "cell_type": "code",
      "execution_count": 8,
      "id": "f01c06fc",
      "metadata": {
        "colab": {
          "base_uri": "https://localhost:8080/"
        },
        "id": "f01c06fc",
        "outputId": "3e2bd081-d0c3-44b3-d0e0-051e056523f7"
      },
      "outputs": [
        {
          "data": {
            "text/plain": [
              "ID                  0\n",
              "Age                 0\n",
              "Gender              0\n",
              "Education           0\n",
              "Country             0\n",
              "Ethnicity           0\n",
              "Nscore              0\n",
              "Escore              0\n",
              "Oscore              0\n",
              "Ascore              0\n",
              "Cscore              0\n",
              "Impulsive           0\n",
              "SS                  0\n",
              "Alcohol Consum      0\n",
              "Amphet Consum       0\n",
              "Amyl Consum         0\n",
              "Benzos Consum       0\n",
              "Caff Consum         0\n",
              "Cannabis Consum     0\n",
              "Choc Consum         0\n",
              "Coke Consum         0\n",
              "Crack Consum        0\n",
              "Ecstasy Consum      0\n",
              "Heroin Consum       0\n",
              "Ketamine Consum     0\n",
              "Legalh Consum       0\n",
              "LSD Consum          0\n",
              "Meth Consum         0\n",
              "Mushrooms Consum    0\n",
              "Nicotine Consum     0\n",
              "Semeron Consum      0\n",
              "VSA Consum          0\n",
              "dtype: int64"
            ]
          },
          "execution_count": 8,
          "metadata": {},
          "output_type": "execute_result"
        }
      ],
      "source": [
        "df.isnull().sum()"
      ]
    },
    {
      "cell_type": "markdown",
      "id": "c401264e",
      "metadata": {
        "id": "c401264e"
      },
      "source": [
        "## Age range"
      ]
    },
    {
      "cell_type": "code",
      "execution_count": 9,
      "id": "00e4feec",
      "metadata": {
        "id": "00e4feec"
      },
      "outputs": [],
      "source": [
        "ages = ['18-24' if x <= -0.9 else \n",
        "           '25-34' if x >= -0.5 and x < 0 else \n",
        "           '35-44' if x > 0 and x < 1 else \n",
        "           '45-54' if x > 1 and x < 1.5 else \n",
        "           '55-64' if x > 1.5 and x < 2 else \n",
        "           '65+'\n",
        "            for x in df[\"Age\"]]\n",
        "df[\"Ages\"] = ages"
      ]
    },
    {
      "cell_type": "code",
      "execution_count": 10,
      "id": "dcfc283f",
      "metadata": {
        "colab": {
          "base_uri": "https://localhost:8080/",
          "height": 238
        },
        "id": "dcfc283f",
        "outputId": "edd25b8f-b3d8-4e10-cbe3-2b34b8e08f9e"
      },
      "outputs": [
        {
          "data": {
            "text/html": [
              "<div>\n",
              "<style scoped>\n",
              "    .dataframe tbody tr th:only-of-type {\n",
              "        vertical-align: middle;\n",
              "    }\n",
              "\n",
              "    .dataframe tbody tr th {\n",
              "        vertical-align: top;\n",
              "    }\n",
              "\n",
              "    .dataframe thead th {\n",
              "        text-align: right;\n",
              "    }\n",
              "</style>\n",
              "<table border=\"1\" class=\"dataframe\">\n",
              "  <thead>\n",
              "    <tr style=\"text-align: right;\">\n",
              "      <th></th>\n",
              "      <th>N</th>\n",
              "      <th>%</th>\n",
              "    </tr>\n",
              "  </thead>\n",
              "  <tbody>\n",
              "    <tr>\n",
              "      <th>18-24</th>\n",
              "      <td>643</td>\n",
              "      <td>34.11</td>\n",
              "    </tr>\n",
              "    <tr>\n",
              "      <th>25-34</th>\n",
              "      <td>481</td>\n",
              "      <td>25.52</td>\n",
              "    </tr>\n",
              "    <tr>\n",
              "      <th>35-44</th>\n",
              "      <td>356</td>\n",
              "      <td>18.89</td>\n",
              "    </tr>\n",
              "    <tr>\n",
              "      <th>45-54</th>\n",
              "      <td>294</td>\n",
              "      <td>15.60</td>\n",
              "    </tr>\n",
              "    <tr>\n",
              "      <th>55-64</th>\n",
              "      <td>93</td>\n",
              "      <td>4.93</td>\n",
              "    </tr>\n",
              "    <tr>\n",
              "      <th>65+</th>\n",
              "      <td>18</td>\n",
              "      <td>0.95</td>\n",
              "    </tr>\n",
              "  </tbody>\n",
              "</table>\n",
              "</div>"
            ],
            "text/plain": [
              "         N      %\n",
              "18-24  643  34.11\n",
              "25-34  481  25.52\n",
              "35-44  356  18.89\n",
              "45-54  294  15.60\n",
              "55-64   93   4.93\n",
              "65+     18   0.95"
            ]
          },
          "execution_count": 10,
          "metadata": {},
          "output_type": "execute_result"
        }
      ],
      "source": [
        "df_count_perc(df,\"Ages\")"
      ]
    },
    {
      "cell_type": "markdown",
      "id": "344309ca",
      "metadata": {
        "id": "344309ca"
      },
      "source": [
        "## Gender name Female or Male"
      ]
    },
    {
      "cell_type": "code",
      "execution_count": 11,
      "id": "9f61b9e2",
      "metadata": {
        "id": "9f61b9e2"
      },
      "outputs": [],
      "source": [
        "df[\"Genders\"] = [\"M\" if x<0 else \"F\" for x in df[\"Gender\"]]"
      ]
    },
    {
      "cell_type": "code",
      "execution_count": 12,
      "id": "354abd1e",
      "metadata": {
        "colab": {
          "base_uri": "https://localhost:8080/",
          "height": 112
        },
        "id": "354abd1e",
        "outputId": "c8de14e4-b91d-42a1-9354-7e91176c15fe"
      },
      "outputs": [
        {
          "data": {
            "text/html": [
              "<div>\n",
              "<style scoped>\n",
              "    .dataframe tbody tr th:only-of-type {\n",
              "        vertical-align: middle;\n",
              "    }\n",
              "\n",
              "    .dataframe tbody tr th {\n",
              "        vertical-align: top;\n",
              "    }\n",
              "\n",
              "    .dataframe thead th {\n",
              "        text-align: right;\n",
              "    }\n",
              "</style>\n",
              "<table border=\"1\" class=\"dataframe\">\n",
              "  <thead>\n",
              "    <tr style=\"text-align: right;\">\n",
              "      <th></th>\n",
              "      <th>N</th>\n",
              "      <th>%</th>\n",
              "    </tr>\n",
              "  </thead>\n",
              "  <tbody>\n",
              "    <tr>\n",
              "      <th>M</th>\n",
              "      <td>943</td>\n",
              "      <td>50.03</td>\n",
              "    </tr>\n",
              "    <tr>\n",
              "      <th>F</th>\n",
              "      <td>942</td>\n",
              "      <td>49.97</td>\n",
              "    </tr>\n",
              "  </tbody>\n",
              "</table>\n",
              "</div>"
            ],
            "text/plain": [
              "     N      %\n",
              "M  943  50.03\n",
              "F  942  49.97"
            ]
          },
          "execution_count": 12,
          "metadata": {},
          "output_type": "execute_result"
        }
      ],
      "source": [
        "df_count_perc(df,\"Genders\")"
      ]
    },
    {
      "cell_type": "markdown",
      "id": "18d429fa",
      "metadata": {
        "id": "18d429fa"
      },
      "source": [
        "## Country name"
      ]
    },
    {
      "cell_type": "code",
      "execution_count": 13,
      "id": "dde6000f",
      "metadata": {
        "colab": {
          "base_uri": "https://localhost:8080/",
          "height": 424
        },
        "id": "dde6000f",
        "outputId": "a7185c62-d249-4815-d6ba-20692b711d20"
      },
      "outputs": [
        {
          "data": {
            "text/html": [
              "<div>\n",
              "<style scoped>\n",
              "    .dataframe tbody tr th:only-of-type {\n",
              "        vertical-align: middle;\n",
              "    }\n",
              "\n",
              "    .dataframe tbody tr th {\n",
              "        vertical-align: top;\n",
              "    }\n",
              "\n",
              "    .dataframe thead th {\n",
              "        text-align: right;\n",
              "    }\n",
              "</style>\n",
              "<table border=\"1\" class=\"dataframe\">\n",
              "  <thead>\n",
              "    <tr style=\"text-align: right;\">\n",
              "      <th></th>\n",
              "      <th>Countries</th>\n",
              "      <th>Country</th>\n",
              "    </tr>\n",
              "  </thead>\n",
              "  <tbody>\n",
              "    <tr>\n",
              "      <th>0</th>\n",
              "      <td>UK</td>\n",
              "      <td>0.96082</td>\n",
              "    </tr>\n",
              "    <tr>\n",
              "      <th>1</th>\n",
              "      <td>UK</td>\n",
              "      <td>0.96082</td>\n",
              "    </tr>\n",
              "    <tr>\n",
              "      <th>2</th>\n",
              "      <td>UK</td>\n",
              "      <td>0.96082</td>\n",
              "    </tr>\n",
              "    <tr>\n",
              "      <th>3</th>\n",
              "      <td>UK</td>\n",
              "      <td>0.96082</td>\n",
              "    </tr>\n",
              "    <tr>\n",
              "      <th>4</th>\n",
              "      <td>UK</td>\n",
              "      <td>0.96082</td>\n",
              "    </tr>\n",
              "    <tr>\n",
              "      <th>...</th>\n",
              "      <td>...</td>\n",
              "      <td>...</td>\n",
              "    </tr>\n",
              "    <tr>\n",
              "      <th>1880</th>\n",
              "      <td>USA</td>\n",
              "      <td>-0.57009</td>\n",
              "    </tr>\n",
              "    <tr>\n",
              "      <th>1881</th>\n",
              "      <td>USA</td>\n",
              "      <td>-0.57009</td>\n",
              "    </tr>\n",
              "    <tr>\n",
              "      <th>1882</th>\n",
              "      <td>USA</td>\n",
              "      <td>-0.57009</td>\n",
              "    </tr>\n",
              "    <tr>\n",
              "      <th>1883</th>\n",
              "      <td>USA</td>\n",
              "      <td>-0.57009</td>\n",
              "    </tr>\n",
              "    <tr>\n",
              "      <th>1884</th>\n",
              "      <td>Ireland</td>\n",
              "      <td>0.21128</td>\n",
              "    </tr>\n",
              "  </tbody>\n",
              "</table>\n",
              "<p>1885 rows × 2 columns</p>\n",
              "</div>"
            ],
            "text/plain": [
              "     Countries  Country\n",
              "0           UK  0.96082\n",
              "1           UK  0.96082\n",
              "2           UK  0.96082\n",
              "3           UK  0.96082\n",
              "4           UK  0.96082\n",
              "...        ...      ...\n",
              "1880       USA -0.57009\n",
              "1881       USA -0.57009\n",
              "1882       USA -0.57009\n",
              "1883       USA -0.57009\n",
              "1884   Ireland  0.21128\n",
              "\n",
              "[1885 rows x 2 columns]"
            ]
          },
          "execution_count": 13,
          "metadata": {},
          "output_type": "execute_result"
        }
      ],
      "source": [
        "countries = ['USA' if x < -0.5 else \n",
        "           'New Zealand' if x > -0.5 and x < -0.4 else \n",
        "           'Other' if x > -0.4 and x < -0.2 else \n",
        "           'Australia' if x > -0.2 and x < 0 else \n",
        "           'Ireland' if x > 0 and x < 0.23 else \n",
        "           'Canada' if x > 0.23 and x < 0.9 else \n",
        "           'UK' \n",
        "           for x in df[\"Country\"]]\n",
        "df[\"Countries\"]=countries\n",
        "df[[\"Countries\",\"Country\"]]"
      ]
    },
    {
      "cell_type": "code",
      "execution_count": 14,
      "id": "9d69aac7",
      "metadata": {
        "colab": {
          "base_uri": "https://localhost:8080/",
          "height": 269
        },
        "id": "9d69aac7",
        "outputId": "d0220981-373e-4fb1-8aa4-eb0f145b47f4"
      },
      "outputs": [
        {
          "data": {
            "text/html": [
              "<div>\n",
              "<style scoped>\n",
              "    .dataframe tbody tr th:only-of-type {\n",
              "        vertical-align: middle;\n",
              "    }\n",
              "\n",
              "    .dataframe tbody tr th {\n",
              "        vertical-align: top;\n",
              "    }\n",
              "\n",
              "    .dataframe thead th {\n",
              "        text-align: right;\n",
              "    }\n",
              "</style>\n",
              "<table border=\"1\" class=\"dataframe\">\n",
              "  <thead>\n",
              "    <tr style=\"text-align: right;\">\n",
              "      <th></th>\n",
              "      <th>N</th>\n",
              "      <th>%</th>\n",
              "    </tr>\n",
              "  </thead>\n",
              "  <tbody>\n",
              "    <tr>\n",
              "      <th>UK</th>\n",
              "      <td>1044</td>\n",
              "      <td>55.38</td>\n",
              "    </tr>\n",
              "    <tr>\n",
              "      <th>USA</th>\n",
              "      <td>557</td>\n",
              "      <td>29.55</td>\n",
              "    </tr>\n",
              "    <tr>\n",
              "      <th>Other</th>\n",
              "      <td>118</td>\n",
              "      <td>6.26</td>\n",
              "    </tr>\n",
              "    <tr>\n",
              "      <th>Canada</th>\n",
              "      <td>87</td>\n",
              "      <td>4.62</td>\n",
              "    </tr>\n",
              "    <tr>\n",
              "      <th>Australia</th>\n",
              "      <td>54</td>\n",
              "      <td>2.86</td>\n",
              "    </tr>\n",
              "    <tr>\n",
              "      <th>Ireland</th>\n",
              "      <td>20</td>\n",
              "      <td>1.06</td>\n",
              "    </tr>\n",
              "    <tr>\n",
              "      <th>New Zealand</th>\n",
              "      <td>5</td>\n",
              "      <td>0.27</td>\n",
              "    </tr>\n",
              "  </tbody>\n",
              "</table>\n",
              "</div>"
            ],
            "text/plain": [
              "                N      %\n",
              "UK           1044  55.38\n",
              "USA           557  29.55\n",
              "Other         118   6.26\n",
              "Canada         87   4.62\n",
              "Australia      54   2.86\n",
              "Ireland        20   1.06\n",
              "New Zealand     5   0.27"
            ]
          },
          "execution_count": 14,
          "metadata": {},
          "output_type": "execute_result"
        }
      ],
      "source": [
        "df_count_perc(df,\"Countries\")"
      ]
    },
    {
      "cell_type": "markdown",
      "id": "c5a76961",
      "metadata": {
        "id": "c5a76961"
      },
      "source": [
        "## Ethnicities"
      ]
    },
    {
      "cell_type": "code",
      "execution_count": 15,
      "id": "136ddd92",
      "metadata": {
        "id": "136ddd92"
      },
      "outputs": [],
      "source": [
        "ethnicities = ['Black' if x < -1 else \n",
        "             'Asian' if x > -1 and x < -0.4 else \n",
        "             'White' if x > -0.4 and x < -0.25 else \n",
        "             'Mixed-White/Black' if x >= -0.25 and x < 0.11 else \n",
        "             'Mixed-White/Asian' if x > 0.12 and x < 1 else \n",
        "             'Mixed-Black/Asian' if x > 1.9 else \n",
        "             'Other' \n",
        "             for x in df['Ethnicity']]\n",
        "df[\"Ethnicities\"]=ethnicities"
      ]
    },
    {
      "cell_type": "code",
      "execution_count": 16,
      "id": "6f7d88aa",
      "metadata": {
        "colab": {
          "base_uri": "https://localhost:8080/",
          "height": 269
        },
        "id": "6f7d88aa",
        "outputId": "5e59d22c-3919-43b3-e2f0-32d7fe5b555f"
      },
      "outputs": [
        {
          "data": {
            "text/html": [
              "<div>\n",
              "<style scoped>\n",
              "    .dataframe tbody tr th:only-of-type {\n",
              "        vertical-align: middle;\n",
              "    }\n",
              "\n",
              "    .dataframe tbody tr th {\n",
              "        vertical-align: top;\n",
              "    }\n",
              "\n",
              "    .dataframe thead th {\n",
              "        text-align: right;\n",
              "    }\n",
              "</style>\n",
              "<table border=\"1\" class=\"dataframe\">\n",
              "  <thead>\n",
              "    <tr style=\"text-align: right;\">\n",
              "      <th></th>\n",
              "      <th>N</th>\n",
              "      <th>%</th>\n",
              "    </tr>\n",
              "  </thead>\n",
              "  <tbody>\n",
              "    <tr>\n",
              "      <th>White</th>\n",
              "      <td>1720</td>\n",
              "      <td>91.25</td>\n",
              "    </tr>\n",
              "    <tr>\n",
              "      <th>Other</th>\n",
              "      <td>63</td>\n",
              "      <td>3.34</td>\n",
              "    </tr>\n",
              "    <tr>\n",
              "      <th>Black</th>\n",
              "      <td>33</td>\n",
              "      <td>1.75</td>\n",
              "    </tr>\n",
              "    <tr>\n",
              "      <th>Asian</th>\n",
              "      <td>26</td>\n",
              "      <td>1.38</td>\n",
              "    </tr>\n",
              "    <tr>\n",
              "      <th>Mixed-White/Asian</th>\n",
              "      <td>20</td>\n",
              "      <td>1.06</td>\n",
              "    </tr>\n",
              "    <tr>\n",
              "      <th>Mixed-White/Black</th>\n",
              "      <td>20</td>\n",
              "      <td>1.06</td>\n",
              "    </tr>\n",
              "    <tr>\n",
              "      <th>Mixed-Black/Asian</th>\n",
              "      <td>3</td>\n",
              "      <td>0.16</td>\n",
              "    </tr>\n",
              "  </tbody>\n",
              "</table>\n",
              "</div>"
            ],
            "text/plain": [
              "                      N      %\n",
              "White              1720  91.25\n",
              "Other                63   3.34\n",
              "Black                33   1.75\n",
              "Asian                26   1.38\n",
              "Mixed-White/Asian    20   1.06\n",
              "Mixed-White/Black    20   1.06\n",
              "Mixed-Black/Asian     3   0.16"
            ]
          },
          "execution_count": 16,
          "metadata": {},
          "output_type": "execute_result"
        }
      ],
      "source": [
        "df_count_perc(df,\"Ethnicities\")"
      ]
    },
    {
      "cell_type": "markdown",
      "id": "fe57f8c3",
      "metadata": {
        "id": "fe57f8c3"
      },
      "source": [
        "## Education"
      ]
    },
    {
      "cell_type": "code",
      "execution_count": 17,
      "id": "8d3d6cb4",
      "metadata": {
        "id": "8d3d6cb4"
      },
      "outputs": [],
      "source": [
        "educations =['Left school before 16 years' if x <-2 else \n",
        "             'Left school at 16 years' if x > -2 and x < -1.5 else \n",
        "             'Left school at 17 years' if x > -1.5 and x < -1.4 else \n",
        "             'Left school at 18 years' if x > -1.4 and x < -1 else \n",
        "             'Some college or university, no certificate or degree' if x > -1 and x < -0.5 else \n",
        "             'Professional certificate/ diploma' if x > -0.5 and x < 0 else \n",
        "             'University degree' if x > 0 and x < 0.5 else \n",
        "             'Masters degree' if x > 0.5 and x < 1.5 else \n",
        "             'Doctorate degree' \n",
        "             for x in df['Education']]\n",
        "df[\"Educations\"]= educations"
      ]
    },
    {
      "cell_type": "code",
      "execution_count": 18,
      "id": "931c9afa",
      "metadata": {
        "colab": {
          "base_uri": "https://localhost:8080/",
          "height": 332
        },
        "id": "931c9afa",
        "outputId": "14252459-c303-45f0-8a80-ee8c86e8f10d"
      },
      "outputs": [
        {
          "data": {
            "text/html": [
              "<div>\n",
              "<style scoped>\n",
              "    .dataframe tbody tr th:only-of-type {\n",
              "        vertical-align: middle;\n",
              "    }\n",
              "\n",
              "    .dataframe tbody tr th {\n",
              "        vertical-align: top;\n",
              "    }\n",
              "\n",
              "    .dataframe thead th {\n",
              "        text-align: right;\n",
              "    }\n",
              "</style>\n",
              "<table border=\"1\" class=\"dataframe\">\n",
              "  <thead>\n",
              "    <tr style=\"text-align: right;\">\n",
              "      <th></th>\n",
              "      <th>N</th>\n",
              "      <th>%</th>\n",
              "    </tr>\n",
              "  </thead>\n",
              "  <tbody>\n",
              "    <tr>\n",
              "      <th>Some college or university, no certificate or degree</th>\n",
              "      <td>506</td>\n",
              "      <td>26.84</td>\n",
              "    </tr>\n",
              "    <tr>\n",
              "      <th>University degree</th>\n",
              "      <td>480</td>\n",
              "      <td>25.46</td>\n",
              "    </tr>\n",
              "    <tr>\n",
              "      <th>Masters degree</th>\n",
              "      <td>283</td>\n",
              "      <td>15.01</td>\n",
              "    </tr>\n",
              "    <tr>\n",
              "      <th>Professional certificate/ diploma</th>\n",
              "      <td>270</td>\n",
              "      <td>14.32</td>\n",
              "    </tr>\n",
              "    <tr>\n",
              "      <th>Left school at 18 years</th>\n",
              "      <td>100</td>\n",
              "      <td>5.31</td>\n",
              "    </tr>\n",
              "    <tr>\n",
              "      <th>Left school at 16 years</th>\n",
              "      <td>99</td>\n",
              "      <td>5.25</td>\n",
              "    </tr>\n",
              "    <tr>\n",
              "      <th>Doctorate degree</th>\n",
              "      <td>89</td>\n",
              "      <td>4.72</td>\n",
              "    </tr>\n",
              "    <tr>\n",
              "      <th>Left school at 17 years</th>\n",
              "      <td>30</td>\n",
              "      <td>1.59</td>\n",
              "    </tr>\n",
              "    <tr>\n",
              "      <th>Left school before 16 years</th>\n",
              "      <td>28</td>\n",
              "      <td>1.49</td>\n",
              "    </tr>\n",
              "  </tbody>\n",
              "</table>\n",
              "</div>"
            ],
            "text/plain": [
              "                                                      N      %\n",
              "Some college or university, no certificate or d...  506  26.84\n",
              "University degree                                   480  25.46\n",
              "Masters degree                                      283  15.01\n",
              "Professional certificate/ diploma                   270  14.32\n",
              "Left school at 18 years                             100   5.31\n",
              "Left school at 16 years                              99   5.25\n",
              "Doctorate degree                                     89   4.72\n",
              "Left school at 17 years                              30   1.59\n",
              "Left school before 16 years                          28   1.49"
            ]
          },
          "execution_count": 18,
          "metadata": {},
          "output_type": "execute_result"
        }
      ],
      "source": [
        "df_count_perc(df,\"Educations\")"
      ]
    },
    {
      "cell_type": "markdown",
      "id": "b7b38ca5",
      "metadata": {
        "id": "b7b38ca5"
      },
      "source": [
        "# Analyse the population"
      ]
    },
    {
      "cell_type": "markdown",
      "id": "de7151ca",
      "metadata": {
        "id": "de7151ca"
      },
      "source": [
        "### Pie plot of the populations"
      ]
    },
    {
      "cell_type": "code",
      "execution_count": 19,
      "id": "c6c5edb5",
      "metadata": {
        "colab": {
          "base_uri": "https://localhost:8080/",
          "height": 497
        },
        "id": "c6c5edb5",
        "outputId": "fbde2701-eaa6-48fb-a359-203be622707b"
      },
      "outputs": [
        {
          "data": {
            "text/plain": [
              "<AxesSubplot:ylabel='Ages'>"
            ]
          },
          "execution_count": 19,
          "metadata": {},
          "output_type": "execute_result"
        },
        {
          "data": {
            "image/png": "[encoded data removed]",
            "text/plain": [
              "<Figure size 432x288 with 1 Axes>"
            ]
          },
          "metadata": {},
          "output_type": "display_data"
        }
      ],
      "source": [
        "df[\"Ages\"].value_counts().plot(kind=\"pie\")"
      ]
    },
    {
      "cell_type": "code",
      "execution_count": 20,
      "id": "9bdfbf06",
      "metadata": {
        "colab": {
          "base_uri": "https://localhost:8080/",
          "height": 497
        },
        "id": "9bdfbf06",
        "outputId": "cf44f323-c5c8-4e66-eb71-7ed55bb5c43e"
      },
      "outputs": [
        {
          "data": {
            "text/plain": [
              "<AxesSubplot:ylabel='Genders'>"
            ]
          },
          "execution_count": 20,
          "metadata": {},
          "output_type": "execute_result"
        },
        {
          "data": {
            "image/png": "[encoded data removed]",
            "text/plain": [
              "<Figure size 432x288 with 1 Axes>"
            ]
          },
          "metadata": {},
          "output_type": "display_data"
        }
      ],
      "source": [
        "df[\"Genders\"].value_counts().plot(kind=\"pie\")"
      ]
    },
    {
      "cell_type": "code",
      "execution_count": 21,
      "id": "7a1076db",
      "metadata": {
        "colab": {
          "base_uri": "https://localhost:8080/",
          "height": 497
        },
        "id": "7a1076db",
        "outputId": "45fe7a8d-72d2-4e3c-f8b6-e99b43a8f778"
      },
      "outputs": [
        {
          "data": {
            "text/plain": [
              "<AxesSubplot:ylabel='Countries'>"
            ]
          },
          "execution_count": 21,
          "metadata": {},
          "output_type": "execute_result"
        },
        {
          "data": {
            "image/png": "[encoded data removed]",
            "text/plain": [
              "<Figure size 432x288 with 1 Axes>"
            ]
          },
          "metadata": {},
          "output_type": "display_data"
        }
      ],
      "source": [
        "df[\"Countries\"].value_counts().plot(kind=\"pie\")"
      ]
    },
    {
      "cell_type": "code",
      "execution_count": 22,
      "id": "3ccd8f06",
      "metadata": {
        "colab": {
          "base_uri": "https://localhost:8080/",
          "height": 497
        },
        "id": "3ccd8f06",
        "outputId": "97b06f3a-2ba2-45c1-a2b5-e21bdd6958b9"
      },
      "outputs": [
        {
          "data": {
            "text/plain": [
              "<AxesSubplot:ylabel='Ethnicities'>"
            ]
          },
          "execution_count": 22,
          "metadata": {},
          "output_type": "execute_result"
        },
        {
          "data": {
            "image/png": "[encoded data removed]",
            "text/plain": [
              "<Figure size 432x288 with 1 Axes>"
            ]
          },
          "metadata": {},
          "output_type": "display_data"
        }
      ],
      "source": [
        "df[\"Ethnicities\"].value_counts().plot(kind=\"pie\")"
      ]
    },
    {
      "cell_type": "code",
      "execution_count": 23,
      "id": "5de4e5d3",
      "metadata": {
        "colab": {
          "base_uri": "https://localhost:8080/",
          "height": 497
        },
        "id": "5de4e5d3",
        "outputId": "8baab891-c89f-4519-e48a-6f0c820f4432"
      },
      "outputs": [
        {
          "data": {
            "text/plain": [
              "<AxesSubplot:ylabel='Educations'>"
            ]
          },
          "execution_count": 23,
          "metadata": {},
          "output_type": "execute_result"
        },
        {
          "data": {
            "image/png": "[encoded data removed]",
            "text/plain": [
              "<Figure size 432x288 with 1 Axes>"
            ]
          },
          "metadata": {},
          "output_type": "display_data"
        }
      ],
      "source": [
        "df[\"Educations\"].value_counts().plot(kind=\"pie\")"
      ]
    },
    {
      "cell_type": "markdown",
      "id": "abd1e06a",
      "metadata": {
        "id": "abd1e06a"
      },
      "source": [
        "### Crossing data"
      ]
    },
    {
      "cell_type": "code",
      "execution_count": 24,
      "id": "8299e01f",
      "metadata": {
        "colab": {
          "base_uri": "https://localhost:8080/",
          "height": 550
        },
        "id": "8299e01f",
        "outputId": "d0776b2b-1d9b-4235-c3c5-a4a7a534ab9c"
      },
      "outputs": [
        {
          "data": {
            "text/plain": [
              "Text(0.5, 1.0, 'Number of people according to their Age/Gender')"
            ]
          },
          "execution_count": 24,
          "metadata": {},
          "output_type": "execute_result"
        },
        {
          "data": {
            "image/png": "[encoded data removed]",
            "text/plain": [
              "<Figure size 432x288 with 1 Axes>"
            ]
          },
          "metadata": {},
          "output_type": "display_data"
        }
      ],
      "source": [
        "ax = sns.countplot(x=\"Ages\",hue=\"Genders\" ,data=df)\n",
        "ax.set_title(\"Number of people according to their Age/Gender\")"
      ]
    },
    {
      "cell_type": "code",
      "execution_count": 25,
      "id": "7c843e18",
      "metadata": {
        "colab": {
          "base_uri": "https://localhost:8080/",
          "height": 388
        },
        "id": "7c843e18",
        "outputId": "e4641730-7d2b-4343-b6b7-d1839c72d235"
      },
      "outputs": [
        {
          "data": {
            "text/plain": [
              "Text(0.5, 0.98, 'Number of F/M in each country according to their age')"
            ]
          },
          "execution_count": 25,
          "metadata": {},
          "output_type": "execute_result"
        },
        {
          "data": {
            "image/png": "[encoded data removed]",
            "text/plain": [
              "<Figure size 787.85x360 with 2 Axes>"
            ]
          },
          "metadata": {},
          "output_type": "display_data"
        }
      ],
      "source": [
        "g = sns.catplot(x=\"Countries\", hue=\"Ages\", col=\"Genders\",\n",
        "                data=df, kind=\"count\");\n",
        "g.fig.suptitle(\"Number of F/M in each country according to their age\")"
      ]
    },
    {
      "cell_type": "code",
      "execution_count": 26,
      "id": "3ad6f6cb",
      "metadata": {
        "colab": {
          "base_uri": "https://localhost:8080/",
          "height": 365
        },
        "id": "3ad6f6cb",
        "outputId": "97d5ebe0-9928-4075-94e9-69527f4925f5"
      },
      "outputs": [
        {
          "data": {
            "image/png": "[encoded data removed]",
            "text/plain": [
              "<Figure size 851.6x360 with 2 Axes>"
            ]
          },
          "metadata": {},
          "output_type": "display_data"
        }
      ],
      "source": [
        "ax = sns.catplot(x=\"Countries\",hue=\"Ethnicities\",col=\"Genders\" ,data=df,kind=\"count\")\n",
        "sns.set(rc={'figure.figsize':(15,8.27)})"
      ]
    },
    {
      "cell_type": "code",
      "execution_count": 27,
      "id": "5ef54588",
      "metadata": {
        "colab": {
          "base_uri": "https://localhost:8080/",
          "height": 365
        },
        "id": "5ef54588",
        "outputId": "1ae24e21-6c24-41e1-e032-7d3f1571cce6"
      },
      "outputs": [
        {
          "data": {
            "image/png": "[encoded data removed]",
            "text/plain": [
              "<Figure size 1007.23x360 with 2 Axes>"
            ]
          },
          "metadata": {},
          "output_type": "display_data"
        }
      ],
      "source": [
        "ax = sns.catplot(x=\"Countries\",hue=\"Educations\",col=\"Genders\" ,data=df,kind=\"count\")\n",
        "sns.set(rc={'figure.figsize':(15,8.27)})"
      ]
    },
    {
      "cell_type": "code",
      "execution_count": 28,
      "id": "0c816691",
      "metadata": {
        "id": "0c816691"
      },
      "outputs": [],
      "source": [
        "drugs=[\"Alcohol Consum\", \"Amphet Consum\", \"Amyl Consum\", \"Benzos Consum\", \"Caff Consum\", \"Cannabis Consum\", \"Choc Consum\", \"Coke Consum\", \"Crack Consum\", \"Ecstasy Consum\", \"Heroin Consum\", \"Ketamine Consum\", \"Legalh Consum\", \"LSD Consum\", \"Meth Consum\", \"Mushrooms Consum\", \"Nicotine Consum\", \"Semeron Consum\", \"VSA Consum\"]\n",
        "for i in drugs:\n",
        "    df[i] = df[i].map({'CL0': 0, 'CL1': 1, 'CL2': 2, 'CL3': 3, 'CL4': 4, 'CL5': 5, 'CL6': 6})"
      ]
    },
    {
      "cell_type": "markdown",
      "id": "68a37aca",
      "metadata": {
        "id": "68a37aca"
      },
      "source": [
        "## Mapping CL and Correlation matrix"
      ]
    },
    {
      "cell_type": "code",
      "execution_count": 29,
      "id": "d46547fa",
      "metadata": {
        "colab": {
          "base_uri": "https://localhost:8080/",
          "height": 407
        },
        "id": "d46547fa",
        "outputId": "cbe28d05-88e7-49c0-d414-237c68abd878"
      },
      "outputs": [
        {
          "data": {
            "image/png": "[encoded data removed]",
            "text/plain": [
              "<Figure size 1152x432 with 2 Axes>"
            ]
          },
          "metadata": {},
          "output_type": "display_data"
        }
      ],
      "source": [
        "cor = df.iloc[:,0:13].corr()\n",
        "plt.figure(figsize=(16, 6))\n",
        "# define the mask to set the values in the upper triangle to True\n",
        "sns.set_theme(style=\"whitegrid\")\n",
        "mask = np.triu(np.ones_like(cor))\n",
        "heatmap = sns.heatmap(cor,mask=mask, vmin=-1, vmax=1, annot=True, cmap='BrBG')\n",
        "heatmap.set_title('Triangle Correlation Heatmap', fontdict={'fontsize':18}, pad=16);"
      ]
    },
    {
      "cell_type": "markdown",
      "id": "7h1dTQY-oo-R",
      "metadata": {
        "id": "7h1dTQY-oo-R"
      },
      "source": [
        "# Alcohol Consum"
      ]
    },
    {
      "cell_type": "code",
      "execution_count": 30,
      "id": "46f4dbfd",
      "metadata": {
        "colab": {
          "base_uri": "https://localhost:8080/"
        },
        "id": "46f4dbfd",
        "outputId": "52cccf35-1413-49ea-a7f6-a95ed5562714"
      },
      "outputs": [
        {
          "name": "stdout",
          "output_type": "stream",
          "text": [
            "[[0 0 0 ... 0 1 0]\n",
            " [0 0 0 ... 0 1 0]\n",
            " [0 0 0 ... 0 0 1]\n",
            " ...\n",
            " [0 0 0 ... 1 0 0]\n",
            " [0 0 0 ... 0 1 0]\n",
            " [0 0 0 ... 1 0 0]]\n"
          ]
        }
      ],
      "source": [
        "\n",
        "features = [\"Age\",\"Gender\",\t\"Education\",\"Country\",\"Ethnicity\",\"Nscore\",\"Escore\",\"Oscore\",\"Ascore\",\"Cscore\",\"Impulsive\",\t\"SS\"]\n",
        "predict_class = [\"Alcohol Consum\"]\n",
        "\n",
        "\n",
        "Y_alcohol = list()\n",
        "for i in df[\"Alcohol Consum\"]:\n",
        "    if(i==0):\n",
        "        Y_alcohol.append([1,0,0,0,0,0,0])\n",
        "    elif(i==1):\n",
        "        Y_alcohol.append([0,1,0,0,0,0,0])\n",
        "    elif(i==2):\n",
        "        Y_alcohol.append([0,0,1,0,0,0,0])\n",
        "    elif(i==3):\n",
        "       Y_alcohol.append([0,0,0,1,0,0,0])\n",
        "    elif(i==4):\n",
        "        Y_alcohol.append([0,0,0,0,1,0,0])\n",
        "    elif(i==5):\n",
        "       Y_alcohol.append([0,0,0,0,0,1,0])\n",
        "    elif(i==6):\n",
        "        Y_alcohol.append([0,0,0,0,0,0,1])\n",
        "Y_alcohol=np.array(Y_alcohol)\n",
        "print(Y_alcohol)\n",
        "\n",
        "    "
      ]
    },
    {
      "cell_type": "code",
      "execution_count": 45,
      "id": "3057ed04",
      "metadata": {
        "id": "3057ed04"
      },
      "outputs": [
        {
          "data": {
            "text/html": [
              "<div>\n",
              "<style scoped>\n",
              "    .dataframe tbody tr th:only-of-type {\n",
              "        vertical-align: middle;\n",
              "    }\n",
              "\n",
              "    .dataframe tbody tr th {\n",
              "        vertical-align: top;\n",
              "    }\n",
              "\n",
              "    .dataframe thead th {\n",
              "        text-align: right;\n",
              "    }\n",
              "</style>\n",
              "<table border=\"1\" class=\"dataframe\">\n",
              "  <thead>\n",
              "    <tr style=\"text-align: right;\">\n",
              "      <th></th>\n",
              "      <th>Age</th>\n",
              "      <th>Gender</th>\n",
              "      <th>Education</th>\n",
              "      <th>Country</th>\n",
              "      <th>Ethnicity</th>\n",
              "      <th>Nscore</th>\n",
              "      <th>Escore</th>\n",
              "      <th>Oscore</th>\n",
              "      <th>Ascore</th>\n",
              "      <th>Cscore</th>\n",
              "      <th>Impulsive</th>\n",
              "      <th>SS</th>\n",
              "    </tr>\n",
              "  </thead>\n",
              "  <tbody>\n",
              "    <tr>\n",
              "      <th>0</th>\n",
              "      <td>0.49788</td>\n",
              "      <td>0.48246</td>\n",
              "      <td>-0.05921</td>\n",
              "      <td>0.96082</td>\n",
              "      <td>0.12600</td>\n",
              "      <td>0.31287</td>\n",
              "      <td>-0.57545</td>\n",
              "      <td>-0.58331</td>\n",
              "      <td>-0.91699</td>\n",
              "      <td>-0.00665</td>\n",
              "      <td>-0.21712</td>\n",
              "      <td>-1.18084</td>\n",
              "    </tr>\n",
              "    <tr>\n",
              "      <th>1</th>\n",
              "      <td>-0.07854</td>\n",
              "      <td>-0.48246</td>\n",
              "      <td>1.98437</td>\n",
              "      <td>0.96082</td>\n",
              "      <td>-0.31685</td>\n",
              "      <td>-0.67825</td>\n",
              "      <td>1.93886</td>\n",
              "      <td>1.43533</td>\n",
              "      <td>0.76096</td>\n",
              "      <td>-0.14277</td>\n",
              "      <td>-0.71126</td>\n",
              "      <td>-0.21575</td>\n",
              "    </tr>\n",
              "    <tr>\n",
              "      <th>2</th>\n",
              "      <td>0.49788</td>\n",
              "      <td>-0.48246</td>\n",
              "      <td>-0.05921</td>\n",
              "      <td>0.96082</td>\n",
              "      <td>-0.31685</td>\n",
              "      <td>-0.46725</td>\n",
              "      <td>0.80523</td>\n",
              "      <td>-0.84732</td>\n",
              "      <td>-1.62090</td>\n",
              "      <td>-1.01450</td>\n",
              "      <td>-1.37983</td>\n",
              "      <td>0.40148</td>\n",
              "    </tr>\n",
              "    <tr>\n",
              "      <th>3</th>\n",
              "      <td>-0.95197</td>\n",
              "      <td>0.48246</td>\n",
              "      <td>1.16365</td>\n",
              "      <td>0.96082</td>\n",
              "      <td>-0.31685</td>\n",
              "      <td>-0.14882</td>\n",
              "      <td>-0.80615</td>\n",
              "      <td>-0.01928</td>\n",
              "      <td>0.59042</td>\n",
              "      <td>0.58489</td>\n",
              "      <td>-1.37983</td>\n",
              "      <td>-1.18084</td>\n",
              "    </tr>\n",
              "    <tr>\n",
              "      <th>4</th>\n",
              "      <td>0.49788</td>\n",
              "      <td>0.48246</td>\n",
              "      <td>1.98437</td>\n",
              "      <td>0.96082</td>\n",
              "      <td>-0.31685</td>\n",
              "      <td>0.73545</td>\n",
              "      <td>-1.63340</td>\n",
              "      <td>-0.45174</td>\n",
              "      <td>-0.30172</td>\n",
              "      <td>1.30612</td>\n",
              "      <td>-0.21712</td>\n",
              "      <td>-0.21575</td>\n",
              "    </tr>\n",
              "    <tr>\n",
              "      <th>...</th>\n",
              "      <td>...</td>\n",
              "      <td>...</td>\n",
              "      <td>...</td>\n",
              "      <td>...</td>\n",
              "      <td>...</td>\n",
              "      <td>...</td>\n",
              "      <td>...</td>\n",
              "      <td>...</td>\n",
              "      <td>...</td>\n",
              "      <td>...</td>\n",
              "      <td>...</td>\n",
              "      <td>...</td>\n",
              "    </tr>\n",
              "    <tr>\n",
              "      <th>1880</th>\n",
              "      <td>-0.95197</td>\n",
              "      <td>0.48246</td>\n",
              "      <td>-0.61113</td>\n",
              "      <td>-0.57009</td>\n",
              "      <td>-0.31685</td>\n",
              "      <td>-1.19430</td>\n",
              "      <td>1.74091</td>\n",
              "      <td>1.88511</td>\n",
              "      <td>0.76096</td>\n",
              "      <td>-1.13788</td>\n",
              "      <td>0.88113</td>\n",
              "      <td>1.92173</td>\n",
              "    </tr>\n",
              "    <tr>\n",
              "      <th>1881</th>\n",
              "      <td>-0.95197</td>\n",
              "      <td>-0.48246</td>\n",
              "      <td>-0.61113</td>\n",
              "      <td>-0.57009</td>\n",
              "      <td>-0.31685</td>\n",
              "      <td>-0.24649</td>\n",
              "      <td>1.74091</td>\n",
              "      <td>0.58331</td>\n",
              "      <td>0.76096</td>\n",
              "      <td>-1.51840</td>\n",
              "      <td>0.88113</td>\n",
              "      <td>0.76540</td>\n",
              "    </tr>\n",
              "    <tr>\n",
              "      <th>1882</th>\n",
              "      <td>-0.07854</td>\n",
              "      <td>0.48246</td>\n",
              "      <td>0.45468</td>\n",
              "      <td>-0.57009</td>\n",
              "      <td>-0.31685</td>\n",
              "      <td>1.13281</td>\n",
              "      <td>-1.37639</td>\n",
              "      <td>-1.27553</td>\n",
              "      <td>-1.77200</td>\n",
              "      <td>-1.38502</td>\n",
              "      <td>0.52975</td>\n",
              "      <td>-0.52593</td>\n",
              "    </tr>\n",
              "    <tr>\n",
              "      <th>1883</th>\n",
              "      <td>-0.95197</td>\n",
              "      <td>0.48246</td>\n",
              "      <td>-0.61113</td>\n",
              "      <td>-0.57009</td>\n",
              "      <td>-0.31685</td>\n",
              "      <td>0.91093</td>\n",
              "      <td>-1.92173</td>\n",
              "      <td>0.29338</td>\n",
              "      <td>-1.62090</td>\n",
              "      <td>-2.57309</td>\n",
              "      <td>1.29221</td>\n",
              "      <td>1.22470</td>\n",
              "    </tr>\n",
              "    <tr>\n",
              "      <th>1884</th>\n",
              "      <td>-0.95197</td>\n",
              "      <td>-0.48246</td>\n",
              "      <td>-0.61113</td>\n",
              "      <td>0.21128</td>\n",
              "      <td>-0.31685</td>\n",
              "      <td>-0.46725</td>\n",
              "      <td>2.12700</td>\n",
              "      <td>1.65653</td>\n",
              "      <td>1.11406</td>\n",
              "      <td>0.41594</td>\n",
              "      <td>0.88113</td>\n",
              "      <td>1.22470</td>\n",
              "    </tr>\n",
              "  </tbody>\n",
              "</table>\n",
              "<p>1885 rows × 12 columns</p>\n",
              "</div>"
            ],
            "text/plain": [
              "          Age   Gender  Education  Country  Ethnicity   Nscore   Escore  \\\n",
              "0     0.49788  0.48246   -0.05921  0.96082    0.12600  0.31287 -0.57545   \n",
              "1    -0.07854 -0.48246    1.98437  0.96082   -0.31685 -0.67825  1.93886   \n",
              "2     0.49788 -0.48246   -0.05921  0.96082   -0.31685 -0.46725  0.80523   \n",
              "3    -0.95197  0.48246    1.16365  0.96082   -0.31685 -0.14882 -0.80615   \n",
              "4     0.49788  0.48246    1.98437  0.96082   -0.31685  0.73545 -1.63340   \n",
              "...       ...      ...        ...      ...        ...      ...      ...   \n",
              "1880 -0.95197  0.48246   -0.61113 -0.57009   -0.31685 -1.19430  1.74091   \n",
              "1881 -0.95197 -0.48246   -0.61113 -0.57009   -0.31685 -0.24649  1.74091   \n",
              "1882 -0.07854  0.48246    0.45468 -0.57009   -0.31685  1.13281 -1.37639   \n",
              "1883 -0.95197  0.48246   -0.61113 -0.57009   -0.31685  0.91093 -1.92173   \n",
              "1884 -0.95197 -0.48246   -0.61113  0.21128   -0.31685 -0.46725  2.12700   \n",
              "\n",
              "       Oscore   Ascore   Cscore  Impulsive       SS  \n",
              "0    -0.58331 -0.91699 -0.00665   -0.21712 -1.18084  \n",
              "1     1.43533  0.76096 -0.14277   -0.71126 -0.21575  \n",
              "2    -0.84732 -1.62090 -1.01450   -1.37983  0.40148  \n",
              "3    -0.01928  0.59042  0.58489   -1.37983 -1.18084  \n",
              "4    -0.45174 -0.30172  1.30612   -0.21712 -0.21575  \n",
              "...       ...      ...      ...        ...      ...  \n",
              "1880  1.88511  0.76096 -1.13788    0.88113  1.92173  \n",
              "1881  0.58331  0.76096 -1.51840    0.88113  0.76540  \n",
              "1882 -1.27553 -1.77200 -1.38502    0.52975 -0.52593  \n",
              "1883  0.29338 -1.62090 -2.57309    1.29221  1.22470  \n",
              "1884  1.65653  1.11406  0.41594    0.88113  1.22470  \n",
              "\n",
              "[1885 rows x 12 columns]"
            ]
          },
          "execution_count": 45,
          "metadata": {},
          "output_type": "execute_result"
        }
      ],
      "source": [
        "df[features]"
      ]
    },
    {
      "cell_type": "code",
      "execution_count": 31,
      "id": "76210ff7",
      "metadata": {
        "id": "76210ff7"
      },
      "outputs": [],
      "source": [
        "from sklearn.model_selection import train_test_split\n",
        "X = df[features].values\n",
        "Y = df[predict_class].values\n",
        "X_train, X_test, y_train, y_test = train_test_split(X, Y_alcohol, test_size=0.25, random_state=42)\n",
        "X_train1, X_test1, y_train1, y_test1 = train_test_split(X, Y, test_size=0.25, random_state=42)"
      ]
    },
    {
      "cell_type": "code",
      "execution_count": 32,
      "id": "f7422e8b",
      "metadata": {
        "id": "f7422e8b"
      },
      "outputs": [],
      "source": [
        "#Feature Scaling\n",
        "from sklearn.preprocessing import StandardScaler\n",
        "sc = StandardScaler()\n",
        "X_train = sc.fit_transform(X_train)\n",
        "X_test = sc.transform(X_test)\n"
      ]
    },
    {
      "cell_type": "markdown",
      "id": "jrysZn1gVlx1",
      "metadata": {
        "id": "jrysZn1gVlx1"
      },
      "source": [
        "# SVM"
      ]
    },
    {
      "cell_type": "code",
      "execution_count": 33,
      "id": "_dypy3RCVULE",
      "metadata": {
        "colab": {
          "base_uri": "https://localhost:8080/"
        },
        "id": "_dypy3RCVULE",
        "outputId": "821b9a87-5cd8-48bb-a666-8833b8ce2053"
      },
      "outputs": [
        {
          "data": {
            "text/plain": [
              "0.3665254237288136"
            ]
          },
          "execution_count": 33,
          "metadata": {},
          "output_type": "execute_result"
        }
      ],
      "source": [
        "from sklearn import metrics\n",
        "from sklearn.svm import SVC\n",
        "svm = SVC(kernel=\"rbf\", C=2,random_state=0)\n",
        "svm.fit(X_train1, y_train1.ravel())\n",
        "\n",
        "pred = svm.predict(X_test)\n",
        "accu = metrics.accuracy_score(y_test1,pred)\n",
        "accu"
      ]
    },
    {
      "cell_type": "code",
      "execution_count": 34,
      "id": "bAi_bgObWGy9",
      "metadata": {
        "colab": {
          "base_uri": "https://localhost:8080/"
        },
        "id": "bAi_bgObWGy9",
        "outputId": "2d31a21e-83d0-4b6e-8712-be11527d4fc2"
      },
      "outputs": [
        {
          "data": {
            "text/plain": [
              "0.3665254237288136"
            ]
          },
          "execution_count": 34,
          "metadata": {},
          "output_type": "execute_result"
        }
      ],
      "source": [
        "svm = SVC(kernel=\"rbf\", C=2,random_state=0)\n",
        "svm.fit(X_train1, y_train1.ravel())\n",
        "\n",
        "pred = svm.predict(X_test)\n",
        "accu = metrics.accuracy_score(y_test1,pred)\n",
        "accu"
      ]
    },
    {
      "cell_type": "code",
      "execution_count": 35,
      "id": "7Moj7fL7Wqy0",
      "metadata": {
        "colab": {
          "base_uri": "https://localhost:8080/",
          "height": 1000
        },
        "id": "7Moj7fL7Wqy0",
        "outputId": "81e8e876-69a2-4a87-98fe-124b9cc3e011"
      },
      "outputs": [
        {
          "name": "stdout",
          "output_type": "stream",
          "text": [
            "[[5]\n",
            " [5]\n",
            " [6]\n",
            " ...\n",
            " [4]\n",
            " [5]\n",
            " [4]]\n",
            "[0 1 2 3 4 5 6]\n",
            "[1, 1, 1, 1, 1, 1, 1, 1, 1, 1, 1, 1, 1, 0, 1, 1, 1, 1, 1, 1, 1, 1, 1, 1, 1, 1, 1, 1, 1, 0, 1, 1, 1, 1, 1, 1, 1, 1, 1, 1, 1, 1, 1, 1, 1, 1, 1, 1, 1, 1, 1, 1, 1, 1, 1, 1, 1, 0, 1, 1, 1, 1, 1, 1, 1, 1, 1, 1, 1, 1, 1, 1, 1, 1, 1, 1, 1, 1, 1, 1, 1, 1, 1, 1, 1, 1, 1, 1, 1, 1, 1, 1, 1, 1, 1, 1, 1, 1, 1, 1, 1, 1, 1, 1, 1, 1, 1, 1, 1, 1, 1, 1, 1, 1, 1, 1, 1, 1, 1, 1, 1, 1, 1, 1, 1, 1, 1, 1, 0, 1, 1, 1, 1, 1, 1, 0, 1, 1, 1, 1, 1, 1, 1, 0, 1, 1, 1, 1, 1, 1, 1, 1, 1, 1, 1, 1, 1, 1, 1, 1, 1, 1, 1, 1, 1, 1, 1, 1, 1, 1, 1, 1, 1, 1, 1, 1, 1, 1, 1, 1, 1, 1, 1, 1, 1, 1, 1, 1, 1, 1, 1, 1, 1, 1, 1, 1, 1, 1, 1, 1, 1, 1, 1, 1, 1, 1, 1, 1, 1, 0, 1, 1, 1, 1, 1, 1, 1, 1, 1, 1, 1, 1, 1, 0, 1, 1, 1, 1, 1, 1, 1, 1, 1, 1, 1, 1, 1, 1, 1, 1, 1, 1, 1, 1, 1, 1, 1, 1, 1, 1, 1, 1, 1, 1, 1, 1, 1, 1, 1, 1, 1, 1, 1, 1, 1, 1, 1, 1, 1, 1, 1, 1, 1, 1, 1, 1, 1, 1, 1, 1, 1, 1, 1, 1, 1, 1, 1, 1, 1, 1, 0, 1, 1, 1, 1, 1, 0, 1, 1, 1, 1, 1, 1, 1, 1, 1, 1, 1, 1, 1, 1, 1, 1, 1, 1, 1, 1, 1, 1, 1, 1, 1, 1, 1, 1, 1, 1, 1, 0, 1, 0, 1, 1, 1, 1, 1, 1, 1, 1, 1, 1, 0, 1, 0, 1, 1, 1, 1, 1, 1, 1, 0, 1, 1, 1, 1, 1, 1, 1, 1, 1, 1, 1, 1, 1, 0, 1, 1, 1, 1, 1, 1, 1, 1, 1, 1, 1, 0, 1, 1, 1, 1, 1, 0, 1, 1, 0, 1, 1, 1, 1, 1, 1, 1, 1, 1, 1, 1, 0, 1, 1, 1, 1, 1, 1, 1, 1, 1, 0, 1, 1, 1, 1, 1, 1, 1, 1, 1, 1, 1, 1, 1, 1, 1, 1, 1, 1, 1, 1, 1, 1, 1, 1, 1, 0, 1, 1, 1, 1, 1, 1, 1, 1, 1, 1, 1, 1, 1, 1, 1, 1, 1, 1, 1, 1, 1, 1, 1, 1, 1, 1, 1, 1, 1, 0, 1, 1, 1, 1, 1, 1, 1, 1, 1, 1, 1, 1, 1, 1, 1, 1, 0, 1, 1, 1, 1, 1, 1, 1, 1, 1, 1, 1, 1, 1, 1, 1, 1, 1, 1, 1, 1, 0, 0, 1, 1, 1, 1, 1, 1, 1, 1, 1, 1, 1, 1, 1, 1, 1, 1, 1, 1, 1, 1, 1, 1, 1, 1, 1, 1, 1, 1, 1, 1, 1, 1, 0, 1, 1, 1, 1, 1, 1, 1, 1, 1, 1, 1, 1, 1, 1, 1, 1, 1, 1, 1, 1, 1, 1, 1, 1, 1, 1, 1, 1, 1, 1, 0, 1, 1, 1, 1, 1, 1, 1, 1, 1, 1, 1, 1, 1, 1, 1, 1, 1, 1, 1, 1, 1, 1, 1, 1, 1, 1, 1, 0, 1, 1, 1, 1, 1, 1, 1, 1, 1, 1, 1, 1, 1, 1, 1, 0, 1, 1, 1, 1, 1, 1, 1, 1, 1, 1, 1, 1, 1, 1, 1, 1, 1, 1, 1, 1, 1, 1, 1, 1, 1, 1, 1, 1, 1, 1, 1, 1, 1, 1, 1, 1, 1, 1, 1, 1, 1, 1, 1, 1, 1, 1, 1, 1, 1, 1, 1, 1, 1, 1, 1, 1, 1, 1, 1, 1, 1, 1, 1, 1, 0, 1, 1, 1, 1, 1, 1, 1, 1, 1, 1, 1, 1, 1, 1, 1, 1, 1, 1, 1, 1, 1, 1, 0, 1, 1, 1, 1, 1, 1, 1, 1, 1, 1, 1, 1, 1, 1, 1, 1, 1, 1, 1, 1, 0, 1, 1, 1, 1, 1, 1, 1, 1, 1, 1, 1, 1, 1, 1, 1, 1, 1, 1, 1, 1, 0, 1, 1, 1, 1, 1, 1, 1, 1, 1, 1, 1, 1, 1, 1, 1, 1, 1, 1, 1, 1, 1, 1, 1, 1, 1, 1, 0, 1, 0, 1, 1, 1, 1, 1, 1, 1, 1, 1, 1, 1, 1, 1, 1, 1, 1, 1, 1, 1, 1, 1, 1, 1, 1, 1, 1, 1, 1, 1, 1, 1, 1, 1, 1, 1, 1, 1, 1, 1, 1, 1, 1, 1, 1, 1, 1, 1, 1, 1, 1, 1, 1, 1, 1, 1, 1, 1, 1, 1, 1, 1, 1, 1, 1, 1, 1, 1, 1, 1, 1, 1, 1, 1, 1, 1, 1, 1, 1, 0, 1, 1, 1, 1, 1, 1, 1, 1, 1, 1, 1, 0, 1, 1, 1, 1, 1, 1, 1, 1, 1, 1, 1, 1, 1, 1, 1, 1, 1, 1, 1, 1, 1, 1, 1, 1, 1, 1, 1, 1, 1, 1, 1, 1, 1, 1, 1, 1, 1, 1, 1, 1, 1, 1, 1, 1, 1, 1, 1, 1, 1, 1, 1, 1, 1, 1, 1, 1, 1, 1, 1, 1, 1, 1, 1, 1, 1, 1, 1, 1, 1, 1, 1, 1, 1, 1, 1, 1, 1, 1, 1, 1, 1, 1, 1, 1, 1, 1, 1, 1, 1, 0, 1, 1, 1, 1, 1, 1, 1, 1, 1, 1, 1, 1, 1, 1, 1, 1, 1, 1, 1, 1, 1, 0, 0, 1, 1, 1, 1, 1, 1, 1, 1, 1, 1, 1, 1, 1, 1, 1, 1, 1, 1, 1, 1, 1, 1, 1, 1, 1, 1, 1, 1, 1, 1, 1, 1, 1, 1, 1, 1, 1, 0, 1, 1, 1, 0, 1, 1, 1, 1, 1, 1, 1, 1, 1, 1, 1, 1, 1, 1, 1, 1, 1, 1, 1, 1, 1, 1, 1, 1, 1, 1, 1, 1, 1, 1, 1, 1, 1, 1, 1, 1, 1, 1, 1, 1, 1, 1, 1, 1, 1, 1, 1, 1, 1, 1, 1, 1, 1, 1, 1, 1, 1, 1, 1, 1, 1, 1, 1, 1, 1, 1, 1, 1, 1, 1, 1, 1, 1, 1, 1, 1, 1, 1, 1, 1, 1, 1, 1, 1, 1, 1, 1, 1, 1, 1, 1, 1, 1, 1, 1, 1, 1, 1, 1, 1, 1, 1, 1, 1, 1, 1, 1, 1, 1, 1, 1, 1, 1, 1, 1, 1, 1, 1, 1, 1, 1, 1, 1, 1, 0, 1, 1, 1, 1, 1, 0, 1, 0, 1, 1, 1, 1, 1, 1, 1, 1, 1, 1, 1, 1, 1, 1, 1, 1, 1, 1, 1, 1, 1, 1, 1, 1, 1, 1, 1, 0, 1, 1, 1, 1, 1, 1, 1, 1, 1, 1, 1, 1, 1, 1, 1, 1, 1, 0, 1, 1, 1, 1, 1, 1, 1, 1, 1, 1, 1, 1, 1, 1, 1, 1, 1, 1, 1, 1, 1, 1, 1, 1, 1, 1, 1, 1, 1, 1, 1, 1, 1, 1, 1, 1, 1, 1, 1, 1, 1, 1, 1, 1, 1, 1, 1, 1, 1, 1, 1, 1, 1, 1, 1, 1, 1, 1, 1, 1, 1, 1, 1, 1, 1, 1, 1, 1, 1, 1, 1, 1, 1, 1, 1, 1, 1, 1, 1, 1, 1, 0, 1, 1, 1, 1, 1, 1, 1, 1, 1, 1, 1, 1, 1, 1, 1, 1, 1, 1, 1, 1, 1, 1, 1, 1, 1, 1, 1, 1, 1, 1, 1, 1, 1, 1, 1, 1, 1, 1, 1, 1, 1, 1, 0, 1, 1, 1, 1, 1, 1, 1, 1, 1, 1, 1, 1, 1, 1, 1, 1, 1, 1, 1, 1, 1, 1, 1, 1, 1, 1, 1, 1, 1, 1, 1, 1, 1, 1, 1, 1, 1, 1, 1, 1, 1, 1, 1, 1, 1, 1, 1, 1, 1, 1, 1, 1, 1, 1, 1, 1, 1, 1, 1, 1, 1, 1, 1, 0, 1, 1, 1, 1, 0, 1, 1, 1, 1, 1, 1, 1, 1, 1, 1, 1, 1, 1, 1, 1, 1, 1, 1, 1, 1, 1, 1, 1, 1, 0, 1, 1, 1, 1, 0, 1, 1, 1, 1, 1, 1, 1, 1, 1, 1, 1, 1, 1, 1, 1, 1, 1, 1, 1, 0, 1, 1, 1, 1, 1, 1, 0, 1, 1, 1, 1, 1, 1, 1, 1, 1, 1, 1, 1, 1, 1, 1, 1, 1, 1, 1, 1, 0, 1, 1, 1, 1, 1, 1, 1, 1, 1, 1, 1, 1, 1, 1, 1, 1, 1, 1, 1, 1, 1, 1, 1, 1, 1, 1, 1, 1, 1, 1, 1, 1, 1, 1, 1, 1, 1, 1, 1, 0, 1, 1, 1, 1, 1, 1, 1, 1, 0, 1, 1, 1, 1, 1, 1, 1, 1, 1, 1, 1, 1, 1, 1, 1, 1, 1, 1, 1, 1, 1, 1, 1, 1, 1, 1, 1, 1, 1, 1, 1, 1, 1, 1, 1, 1, 1, 1, 1, 1, 1, 0, 0, 1, 1, 1, 1, 1, 1, 1, 1, 1, 1, 1, 1, 1, 1, 1, 1, 1, 1, 1, 1, 1, 1, 1, 1, 1, 1, 1, 1, 1, 1, 1, 1, 1, 1, 1, 1, 1, 1, 1, 1, 1, 1, 0, 1, 1, 1, 1, 1, 1, 1, 1, 1, 1, 1, 1, 1, 1, 1, 1, 1, 1, 1, 1, 1, 1, 1, 1, 1, 1, 1, 1, 1, 1, 1, 1, 1, 1, 1, 1, 1, 1, 1, 1, 1, 1, 1, 1, 1, 1, 1, 1, 1, 1, 1, 1, 1, 1, 1, 1, 1, 1, 1, 1, 1, 1, 1, 1, 1, 1, 1, 1, 1, 1, 1, 1, 1, 1, 1, 1, 1, 1, 1, 1, 1, 1, 1, 1, 1, 1, 1, 1, 1, 1, 1, 1, 1, 1, 1, 1, 1, 1, 1, 1, 1, 1, 1, 1, 1, 1, 1, 1, 1, 0, 1, 1, 1, 1, 0, 1, 1, 1, 1, 1, 1, 1, 1, 1, 1, 1, 1, 1, 1, 1, 1, 1, 1, 1, 1, 1, 1, 1, 1, 1, 0, 1, 1, 1, 1, 1, 1, 1, 1, 1, 1, 1, 1, 1, 1, 1, 1, 1, 1, 1, 1, 1, 1, 1, 1, 1, 1, 1, 0, 1, 1, 0, 1, 1, 1, 1, 1, 1, 1, 1, 1, 1, 1, 1, 1, 1, 1, 1, 0, 1, 1, 1, 1, 1, 1, 1, 1, 1, 1, 1, 1, 1, 1, 1, 1, 1, 1, 1, 1, 1, 1, 1, 1, 1, 1, 1, 1, 1, 1, 1, 1, 1, 1, 1, 1, 1, 1, 1, 1, 1, 1, 1, 1, 1, 1, 1, 1, 1, 1, 1, 1, 1, 1, 1, 1, 1, 1, 1, 1, 1, 1, 1, 1, 1, 1, 1, 1, 1, 1, 1, 1, 1, 1, 1, 1, 1, 1, 1, 1, 1, 1, 1, 1, 1, 1, 1, 1, 1, 1, 1, 1, 1]\n",
            "\n",
            "\n",
            "Confusion Matrix:\n",
            "[[  0  22]\n",
            " [  0 544]]\n",
            "\n",
            "\n",
            "Classification Report: \n",
            "              precision    recall  f1-score   support\n",
            "\n",
            "           0       0.00      0.00      0.00        22\n",
            "           1       0.96      1.00      0.98       544\n",
            "\n",
            "    accuracy                           0.96       566\n",
            "   macro avg       0.48      0.50      0.49       566\n",
            "weighted avg       0.92      0.96      0.94       566\n",
            "\n"
          ]
        },
        {
          "name": "stderr",
          "output_type": "stream",
          "text": [
            "C:\\Users\\Arthur\\anaconda3\\lib\\site-packages\\sklearn\\metrics\\_classification.py:1308: UndefinedMetricWarning: Precision and F-score are ill-defined and being set to 0.0 in labels with no predicted samples. Use `zero_division` parameter to control this behavior.\n",
            "  _warn_prf(average, modifier, msg_start, len(result))\n",
            "C:\\Users\\Arthur\\anaconda3\\lib\\site-packages\\sklearn\\metrics\\_classification.py:1308: UndefinedMetricWarning: Precision and F-score are ill-defined and being set to 0.0 in labels with no predicted samples. Use `zero_division` parameter to control this behavior.\n",
            "  _warn_prf(average, modifier, msg_start, len(result))\n",
            "C:\\Users\\Arthur\\anaconda3\\lib\\site-packages\\sklearn\\metrics\\_classification.py:1308: UndefinedMetricWarning: Precision and F-score are ill-defined and being set to 0.0 in labels with no predicted samples. Use `zero_division` parameter to control this behavior.\n",
            "  _warn_prf(average, modifier, msg_start, len(result))\n"
          ]
        },
        {
          "data": {
            "image/png": "[encoded data removed]",
            "text/plain": [
              "<Figure size 1080x595.44 with 1 Axes>"
            ]
          },
          "metadata": {},
          "output_type": "display_data"
        },
        {
          "name": "stderr",
          "output_type": "stream",
          "text": [
            "C:\\Users\\Arthur\\anaconda3\\lib\\site-packages\\sklearn\\metrics\\_ranking.py:990: UndefinedMetricWarning: No negative samples in y_true, false positive value should be meaningless\n",
            "  warnings.warn(\n"
          ]
        },
        {
          "data": {
            "image/png": "[encoded data removed]",
            "text/plain": [
              "<Figure size 1080x595.44 with 1 Axes>"
            ]
          },
          "metadata": {},
          "output_type": "display_data"
        }
      ],
      "source": [
        "X = df[features].values\n",
        "y = df[predict_class].values\n",
        "print(y)\n",
        "print(np.unique(y))\n",
        "y=[1 if i>1 else 0 for i in y]\n",
        "print(y)\n",
        "X_train, X_test, y_train, y_test = train_test_split(X, y, test_size=0.30, random_state=42)\n",
        "\n",
        "from sklearn.metrics import roc_curve,auc\n",
        "\n",
        "def plot_confusion_metrix(y_test,model_test):\n",
        "    cm = metrics.confusion_matrix(y_test, model_test)\n",
        "    plt.figure(1)\n",
        "    plt.clf()\n",
        "    plt.imshow(cm, interpolation='nearest', cmap=plt.cm.Wistia)\n",
        "    classNames = ['Non-User','User']\n",
        "    plt.title('Confusion Matrix')\n",
        "    plt.ylabel('True label')\n",
        "    plt.xlabel('Predicted label')\n",
        "    tick_marks = np.arange(len(classNames))\n",
        "    plt.xticks(tick_marks, classNames)\n",
        "    plt.yticks(tick_marks, classNames)\n",
        "    s = [['TN','FP'], ['FN', 'TP']]\n",
        "    for i in range(2):\n",
        "        for j in range(2):\n",
        "            plt.text(j,i, str(s[i][j])+\" = \"+str(cm[i][j]))\n",
        "    plt.show()\n",
        "\n",
        "def report_performance(model):\n",
        "\n",
        "    model_test = model.predict(X_test)\n",
        "\n",
        "    print(\"\\n\\nConfusion Matrix:\")\n",
        "    print(\"{0}\".format(metrics.confusion_matrix(y_test, model_test)))\n",
        "    print(\"\\n\\nClassification Report: \")\n",
        "    print(metrics.classification_report(y_test, model_test))\n",
        "    plot_confusion_metrix(y_test, model_test)\n",
        "\n",
        "\n",
        "def roc_curves(model):\n",
        "    predictions_test = model.predict(X_test)\n",
        "    fpr, tpr, thresholds = roc_curve(predictions_test,y_test)\n",
        "    roc_auc = auc(fpr, tpr)\n",
        "    plt.figure()\n",
        "    plt.plot(fpr, tpr, color='darkorange', lw=1, label='ROC curve (area = %0.2f)' % roc_auc)\n",
        "    plt.plot([0, 1], [0, 1], color='navy', lw=2, linestyle='--')\n",
        "    plt.xlim([0.0, 1.0])\n",
        "    plt.ylim([0.0, 1.05])\n",
        "    plt.xlabel('False Positive Rate')\n",
        "    plt.ylabel('True Positive Rate')\n",
        "    plt.title('Receiver operating characteristic')\n",
        "    plt.legend(loc=\"lower right\")\n",
        "    plt.show()\n",
        "    \n",
        "def accuracy(model):\n",
        "    pred = model.predict(X_test1)\n",
        "    accu = metrics.accuracy_score(y_test,pred)\n",
        "    print(\"\\nAcuuracy Of the Model: \",accu,\"\\n\\n\")\n",
        "\n",
        "svm = SVC(kernel=\"linear\", C=1,random_state=0)\n",
        "svm.fit(X_train, y_train)\n",
        "report_performance(svm) \n",
        "roc_curves(svm)"
      ]
    },
    {
      "cell_type": "code",
      "execution_count": 36,
      "id": "jdJOC6_YYlBE",
      "metadata": {
        "colab": {
          "base_uri": "https://localhost:8080/",
          "height": 1000
        },
        "id": "jdJOC6_YYlBE",
        "outputId": "ae823e5f-5034-4dda-e6d4-0dd84e9b485a"
      },
      "outputs": [
        {
          "name": "stdout",
          "output_type": "stream",
          "text": [
            "\n",
            "\n",
            "Confusion Matrix:\n",
            "[[  2  20]\n",
            " [  4 540]]\n",
            "\n",
            "\n",
            "Classification Report: \n",
            "              precision    recall  f1-score   support\n",
            "\n",
            "           0       0.33      0.09      0.14        22\n",
            "           1       0.96      0.99      0.98       544\n",
            "\n",
            "    accuracy                           0.96       566\n",
            "   macro avg       0.65      0.54      0.56       566\n",
            "weighted avg       0.94      0.96      0.95       566\n",
            "\n"
          ]
        },
        {
          "data": {
            "image/png": "[encoded data removed]",
            "text/plain": [
              "<Figure size 1080x595.44 with 1 Axes>"
            ]
          },
          "metadata": {},
          "output_type": "display_data"
        },
        {
          "data": {
            "image/png": "[encoded data removed]",
            "text/plain": [
              "<Figure size 1080x595.44 with 1 Axes>"
            ]
          },
          "metadata": {},
          "output_type": "display_data"
        }
      ],
      "source": [
        "from sklearn.tree import DecisionTreeClassifier\n",
        "clf_dtc = DecisionTreeClassifier(criterion='gini',max_depth=4,random_state=0)\n",
        "clf_dtc.fit(X_train, y_train)\n",
        "report_performance(clf_dtc) \n",
        "roc_curves(clf_dtc)\n",
        "pred = svm.predict(X_test)\n"
      ]
    },
    {
      "cell_type": "markdown",
      "id": "qxBL4bK5bv2L",
      "metadata": {
        "id": "qxBL4bK5bv2L"
      },
      "source": [
        "# KNN"
      ]
    },
    {
      "cell_type": "code",
      "execution_count": 37,
      "id": "R9EBB0Xrbxjy",
      "metadata": {
        "colab": {
          "base_uri": "https://localhost:8080/",
          "height": 828
        },
        "id": "R9EBB0Xrbxjy",
        "outputId": "18964954-97b6-43bd-e74a-d24df9502c0b"
      },
      "outputs": [
        {
          "name": "stdout",
          "output_type": "stream",
          "text": [
            "\n",
            "\n",
            "Confusion Matrix:\n",
            "[[  1  21]\n",
            " [ 28 516]]\n",
            "\n",
            "\n",
            "Classification Report: \n",
            "              precision    recall  f1-score   support\n",
            "\n",
            "           0       0.03      0.05      0.04        22\n",
            "           1       0.96      0.95      0.95       544\n",
            "\n",
            "    accuracy                           0.91       566\n",
            "   macro avg       0.50      0.50      0.50       566\n",
            "weighted avg       0.92      0.91      0.92       566\n",
            "\n"
          ]
        },
        {
          "data": {
            "image/png": "[encoded data removed]",
            "text/plain": [
              "<Figure size 1080x595.44 with 1 Axes>"
            ]
          },
          "metadata": {},
          "output_type": "display_data"
        }
      ],
      "source": [
        "from sklearn.neighbors import KNeighborsClassifier\n",
        "neigh = KNeighborsClassifier(n_neighbors=2)\n",
        "neigh.fit(X_train, y_train)\n",
        "report_performance(neigh)"
      ]
    },
    {
      "cell_type": "code",
      "execution_count": 38,
      "id": "yvcYqrmecDGL",
      "metadata": {
        "colab": {
          "base_uri": "https://localhost:8080/",
          "height": 952
        },
        "id": "yvcYqrmecDGL",
        "outputId": "cbf58548-786a-4282-ec81-b6758b3832bc"
      },
      "outputs": [
        {
          "name": "stdout",
          "output_type": "stream",
          "text": [
            "\n",
            "\n",
            "Confusion Matrix:\n",
            "[[  0  22]\n",
            " [  0 544]]\n",
            "\n",
            "\n",
            "Classification Report: \n",
            "              precision    recall  f1-score   support\n",
            "\n",
            "           0       0.00      0.00      0.00        22\n",
            "           1       0.96      1.00      0.98       544\n",
            "\n",
            "    accuracy                           0.96       566\n",
            "   macro avg       0.48      0.50      0.49       566\n",
            "weighted avg       0.92      0.96      0.94       566\n",
            "\n"
          ]
        },
        {
          "name": "stderr",
          "output_type": "stream",
          "text": [
            "C:\\Users\\Arthur\\anaconda3\\lib\\site-packages\\sklearn\\metrics\\_classification.py:1308: UndefinedMetricWarning: Precision and F-score are ill-defined and being set to 0.0 in labels with no predicted samples. Use `zero_division` parameter to control this behavior.\n",
            "  _warn_prf(average, modifier, msg_start, len(result))\n",
            "C:\\Users\\Arthur\\anaconda3\\lib\\site-packages\\sklearn\\metrics\\_classification.py:1308: UndefinedMetricWarning: Precision and F-score are ill-defined and being set to 0.0 in labels with no predicted samples. Use `zero_division` parameter to control this behavior.\n",
            "  _warn_prf(average, modifier, msg_start, len(result))\n",
            "C:\\Users\\Arthur\\anaconda3\\lib\\site-packages\\sklearn\\metrics\\_classification.py:1308: UndefinedMetricWarning: Precision and F-score are ill-defined and being set to 0.0 in labels with no predicted samples. Use `zero_division` parameter to control this behavior.\n",
            "  _warn_prf(average, modifier, msg_start, len(result))\n"
          ]
        },
        {
          "data": {
            "image/png": "[encoded data removed]",
            "text/plain": [
              "<Figure size 1080x595.44 with 1 Axes>"
            ]
          },
          "metadata": {},
          "output_type": "display_data"
        }
      ],
      "source": [
        "from sklearn.neighbors import KNeighborsClassifier\n",
        "neigh = KNeighborsClassifier(n_neighbors=5)\n",
        "neigh.fit(X_train, y_train)\n",
        "report_performance(neigh)"
      ]
    },
    {
      "cell_type": "code",
      "execution_count": 39,
      "id": "DHN-RO7tcMvh",
      "metadata": {
        "colab": {
          "base_uri": "https://localhost:8080/",
          "height": 952
        },
        "id": "DHN-RO7tcMvh",
        "outputId": "562b61a3-d0ba-43f7-bd2e-ba58e699985f"
      },
      "outputs": [
        {
          "name": "stdout",
          "output_type": "stream",
          "text": [
            "\n",
            "\n",
            "Confusion Matrix:\n",
            "[[  0  22]\n",
            " [  0 544]]\n",
            "\n",
            "\n",
            "Classification Report: \n",
            "              precision    recall  f1-score   support\n",
            "\n",
            "           0       0.00      0.00      0.00        22\n",
            "           1       0.96      1.00      0.98       544\n",
            "\n",
            "    accuracy                           0.96       566\n",
            "   macro avg       0.48      0.50      0.49       566\n",
            "weighted avg       0.92      0.96      0.94       566\n",
            "\n"
          ]
        },
        {
          "name": "stderr",
          "output_type": "stream",
          "text": [
            "C:\\Users\\Arthur\\anaconda3\\lib\\site-packages\\sklearn\\metrics\\_classification.py:1308: UndefinedMetricWarning: Precision and F-score are ill-defined and being set to 0.0 in labels with no predicted samples. Use `zero_division` parameter to control this behavior.\n",
            "  _warn_prf(average, modifier, msg_start, len(result))\n",
            "C:\\Users\\Arthur\\anaconda3\\lib\\site-packages\\sklearn\\metrics\\_classification.py:1308: UndefinedMetricWarning: Precision and F-score are ill-defined and being set to 0.0 in labels with no predicted samples. Use `zero_division` parameter to control this behavior.\n",
            "  _warn_prf(average, modifier, msg_start, len(result))\n",
            "C:\\Users\\Arthur\\anaconda3\\lib\\site-packages\\sklearn\\metrics\\_classification.py:1308: UndefinedMetricWarning: Precision and F-score are ill-defined and being set to 0.0 in labels with no predicted samples. Use `zero_division` parameter to control this behavior.\n",
            "  _warn_prf(average, modifier, msg_start, len(result))\n"
          ]
        },
        {
          "data": {
            "image/png": "[encoded data removed]",
            "text/plain": [
              "<Figure size 1080x595.44 with 1 Axes>"
            ]
          },
          "metadata": {},
          "output_type": "display_data"
        }
      ],
      "source": [
        "from sklearn.neighbors import KNeighborsClassifier\n",
        "neigh = KNeighborsClassifier(n_neighbors=6)\n",
        "neigh.fit(X_train, y_train)\n",
        "report_performance(neigh)"
      ]
    },
    {
      "cell_type": "code",
      "execution_count": 40,
      "id": "XBt6iLyscY2D",
      "metadata": {
        "colab": {
          "base_uri": "https://localhost:8080/",
          "height": 828
        },
        "id": "XBt6iLyscY2D",
        "outputId": "6d2afd96-3d0a-44d2-9e2e-a7f657bbf2e1"
      },
      "outputs": [
        {
          "name": "stdout",
          "output_type": "stream",
          "text": [
            "\n",
            "\n",
            "Confusion Matrix:\n",
            "[[  0  22]\n",
            " [  3 541]]\n",
            "\n",
            "\n",
            "Classification Report: \n",
            "              precision    recall  f1-score   support\n",
            "\n",
            "           0       0.00      0.00      0.00        22\n",
            "           1       0.96      0.99      0.98       544\n",
            "\n",
            "    accuracy                           0.96       566\n",
            "   macro avg       0.48      0.50      0.49       566\n",
            "weighted avg       0.92      0.96      0.94       566\n",
            "\n"
          ]
        },
        {
          "data": {
            "image/png": "[encoded data removed]",
            "text/plain": [
              "<Figure size 1080x595.44 with 1 Axes>"
            ]
          },
          "metadata": {},
          "output_type": "display_data"
        }
      ],
      "source": [
        "neigh = sklearn.neighbors.KNeighborsClassifier(n_neighbors=4)\n",
        "neigh.fit(X_train, y_train)\n",
        "report_performance(neigh)"
      ]
    },
    {
      "cell_type": "code",
      "execution_count": null,
      "id": "QA4qsULidZO0",
      "metadata": {
        "id": "QA4qsULidZO0"
      },
      "outputs": [],
      "source": []
    },
    {
      "cell_type": "markdown",
      "id": "_RqATs9jd7A2",
      "metadata": {
        "id": "_RqATs9jd7A2"
      },
      "source": [
        "# Random Forest"
      ]
    },
    {
      "cell_type": "code",
      "execution_count": 41,
      "id": "B-ojWL-ldaKB",
      "metadata": {
        "colab": {
          "base_uri": "https://localhost:8080/",
          "height": 952
        },
        "id": "B-ojWL-ldaKB",
        "outputId": "abf4fd7b-c9d1-4646-c5cd-82d9e626e3c6"
      },
      "outputs": [
        {
          "name": "stdout",
          "output_type": "stream",
          "text": [
            "\n",
            "\n",
            "Confusion Matrix:\n",
            "[[  0  22]\n",
            " [  0 544]]\n",
            "\n",
            "\n",
            "Classification Report: \n",
            "              precision    recall  f1-score   support\n",
            "\n",
            "           0       0.00      0.00      0.00        22\n",
            "           1       0.96      1.00      0.98       544\n",
            "\n",
            "    accuracy                           0.96       566\n",
            "   macro avg       0.48      0.50      0.49       566\n",
            "weighted avg       0.92      0.96      0.94       566\n",
            "\n"
          ]
        },
        {
          "name": "stderr",
          "output_type": "stream",
          "text": [
            "C:\\Users\\Arthur\\anaconda3\\lib\\site-packages\\sklearn\\metrics\\_classification.py:1308: UndefinedMetricWarning: Precision and F-score are ill-defined and being set to 0.0 in labels with no predicted samples. Use `zero_division` parameter to control this behavior.\n",
            "  _warn_prf(average, modifier, msg_start, len(result))\n",
            "C:\\Users\\Arthur\\anaconda3\\lib\\site-packages\\sklearn\\metrics\\_classification.py:1308: UndefinedMetricWarning: Precision and F-score are ill-defined and being set to 0.0 in labels with no predicted samples. Use `zero_division` parameter to control this behavior.\n",
            "  _warn_prf(average, modifier, msg_start, len(result))\n",
            "C:\\Users\\Arthur\\anaconda3\\lib\\site-packages\\sklearn\\metrics\\_classification.py:1308: UndefinedMetricWarning: Precision and F-score are ill-defined and being set to 0.0 in labels with no predicted samples. Use `zero_division` parameter to control this behavior.\n",
            "  _warn_prf(average, modifier, msg_start, len(result))\n"
          ]
        },
        {
          "data": {
            "image/png": "[encoded data removed]",
            "text/plain": [
              "<Figure size 1080x595.44 with 1 Axes>"
            ]
          },
          "metadata": {},
          "output_type": "display_data"
        }
      ],
      "source": [
        "from sklearn.ensemble import RandomForestClassifier\n",
        "\n",
        "RF = RandomForestClassifier(n_estimators=200, max_depth=7, random_state=0)\n",
        "RF.fit(X_train, y_train)\n",
        "report_performance(RF)"
      ]
    },
    {
      "cell_type": "markdown",
      "id": "v-FDjxWRee70",
      "metadata": {
        "id": "v-FDjxWRee70"
      },
      "source": [
        "# Logistic Regression"
      ]
    },
    {
      "cell_type": "code",
      "execution_count": 42,
      "id": "lqqy3Ku2ehrW",
      "metadata": {
        "colab": {
          "base_uri": "https://localhost:8080/",
          "height": 952
        },
        "id": "lqqy3Ku2ehrW",
        "outputId": "a64464ec-67f1-4604-8dda-9c9280f1e5ad"
      },
      "outputs": [
        {
          "name": "stdout",
          "output_type": "stream",
          "text": [
            "\n",
            "\n",
            "Confusion Matrix:\n",
            "[[  0  22]\n",
            " [  0 544]]\n",
            "\n",
            "\n",
            "Classification Report: \n",
            "              precision    recall  f1-score   support\n",
            "\n",
            "           0       0.00      0.00      0.00        22\n",
            "           1       0.96      1.00      0.98       544\n",
            "\n",
            "    accuracy                           0.96       566\n",
            "   macro avg       0.48      0.50      0.49       566\n",
            "weighted avg       0.92      0.96      0.94       566\n",
            "\n"
          ]
        },
        {
          "name": "stderr",
          "output_type": "stream",
          "text": [
            "C:\\Users\\Arthur\\anaconda3\\lib\\site-packages\\sklearn\\metrics\\_classification.py:1308: UndefinedMetricWarning: Precision and F-score are ill-defined and being set to 0.0 in labels with no predicted samples. Use `zero_division` parameter to control this behavior.\n",
            "  _warn_prf(average, modifier, msg_start, len(result))\n",
            "C:\\Users\\Arthur\\anaconda3\\lib\\site-packages\\sklearn\\metrics\\_classification.py:1308: UndefinedMetricWarning: Precision and F-score are ill-defined and being set to 0.0 in labels with no predicted samples. Use `zero_division` parameter to control this behavior.\n",
            "  _warn_prf(average, modifier, msg_start, len(result))\n",
            "C:\\Users\\Arthur\\anaconda3\\lib\\site-packages\\sklearn\\metrics\\_classification.py:1308: UndefinedMetricWarning: Precision and F-score are ill-defined and being set to 0.0 in labels with no predicted samples. Use `zero_division` parameter to control this behavior.\n",
            "  _warn_prf(average, modifier, msg_start, len(result))\n"
          ]
        },
        {
          "data": {
            "image/png": "[encoded data removed]",
            "text/plain": [
              "<Figure size 1080x595.44 with 1 Axes>"
            ]
          },
          "metadata": {},
          "output_type": "display_data"
        }
      ],
      "source": [
        "from sklearn.linear_model import LogisticRegression\n",
        "logreg = LogisticRegression()\n",
        "logreg.fit(X_train, y_train)\n",
        "report_performance(logreg)"
      ]
    },
    {
      "cell_type": "markdown",
      "id": "50d1e5a8",
      "metadata": {
        "id": "50d1e5a8"
      },
      "source": [
        "#### Pickle"
      ]
    },
    {
      "cell_type": "code",
      "execution_count": 43,
      "id": "7350cb02",
      "metadata": {},
      "outputs": [],
      "source": [
        "filename = 'model.pkl'\n",
        "pickle.dump(neigh, open(filename, 'wb'))"
      ]
    }
  ],
  "metadata": {
    "colab": {
      "name": "data_analysis.ipynb",
      "provenance": []
    },
    "kernelspec": {
      "display_name": "Python 3",
      "language": "python",
      "name": "python3"
    },
    "language_info": {
      "codemirror_mode": {
        "name": "ipython",
        "version": 3
      },
      "file_extension": ".py",
      "mimetype": "text/x-python",
      "name": "python",
      "nbconvert_exporter": "python",
      "pygments_lexer": "ipython3",
      "version": "3.8.12"
    }
  },
  "nbformat": 4,
  "nbformat_minor": 5
}
