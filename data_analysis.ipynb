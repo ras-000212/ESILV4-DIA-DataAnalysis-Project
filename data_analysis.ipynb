{
 "cells": [
  {
   "cell_type": "markdown",
   "metadata": {},
   "source": [
    "# Python for Data Analysis Project"
   ]
  },
  {
   "cell_type": "markdown",
   "metadata": {},
   "source": [
    "## Import"
   ]
  },
  {
   "cell_type": "code",
   "execution_count": 95,
   "metadata": {},
   "outputs": [],
   "source": [
    "import pandas as pd\n",
    "import matplotlib.pyplot as plt\n",
    "import seaborn as sns"
   ]
  },
  {
   "cell_type": "markdown",
   "metadata": {},
   "source": [
    "## Data Import"
   ]
  },
  {
   "cell_type": "code",
   "execution_count": 53,
   "metadata": {},
   "outputs": [],
   "source": [
    "df = pd.read_csv(\"drug_consumption.data\", header = None)\n",
    "df.set_axis([\"ID\", \"Age\", \"Gender\", \"Education\", \"Country\", \"Ethnicity\", \"Nscore\", \"Escore\", \"Oscore\", \"Ascore\", \"Cscore\", \"Impulsive\", \"SS\", \"Alcohol Consum\", \"Amphet Consum\", \"Amyl Consum\", \"Benzos Consum\", \"Caff Consum\", \"Cannabis Consum\", \"Choc Consum\", \"Coke Consum\", \"Crack Consum\", \"Ecstasy Consum\", \"Heroin Consum\", \"Ketamine Consum\", \"Legalh Consum\", \"LSD Consum\", \"Meth Consum\", \"Mushrooms Consum\", \"Nicotine Consum\", \"Semeron Consum\", \"VSA Consum\"], axis = 1, inplace = True)"
   ]
  },
  {
   "cell_type": "code",
   "execution_count": 54,
   "metadata": {},
   "outputs": [
    {
     "data": {
      "text/html": [
       "<div>\n",
       "<style scoped>\n",
       "    .dataframe tbody tr th:only-of-type {\n",
       "        vertical-align: middle;\n",
       "    }\n",
       "\n",
       "    .dataframe tbody tr th {\n",
       "        vertical-align: top;\n",
       "    }\n",
       "\n",
       "    .dataframe thead th {\n",
       "        text-align: right;\n",
       "    }\n",
       "</style>\n",
       "<table border=\"1\" class=\"dataframe\">\n",
       "  <thead>\n",
       "    <tr style=\"text-align: right;\">\n",
       "      <th></th>\n",
       "      <th>ID</th>\n",
       "      <th>Age</th>\n",
       "      <th>Gender</th>\n",
       "      <th>Education</th>\n",
       "      <th>Country</th>\n",
       "      <th>Ethnicity</th>\n",
       "      <th>Nscore</th>\n",
       "      <th>Escore</th>\n",
       "      <th>Oscore</th>\n",
       "      <th>Ascore</th>\n",
       "      <th>...</th>\n",
       "      <th>Ecstasy Consum</th>\n",
       "      <th>Heroin Consum</th>\n",
       "      <th>Ketamine Consum</th>\n",
       "      <th>Legalh Consum</th>\n",
       "      <th>LSD Consum</th>\n",
       "      <th>Meth Consum</th>\n",
       "      <th>Mushrooms Consum</th>\n",
       "      <th>Nicotine Consum</th>\n",
       "      <th>Semeron Consum</th>\n",
       "      <th>VSA Consum</th>\n",
       "    </tr>\n",
       "  </thead>\n",
       "  <tbody>\n",
       "    <tr>\n",
       "      <th>0</th>\n",
       "      <td>1</td>\n",
       "      <td>0.49788</td>\n",
       "      <td>0.48246</td>\n",
       "      <td>-0.05921</td>\n",
       "      <td>0.96082</td>\n",
       "      <td>0.12600</td>\n",
       "      <td>0.31287</td>\n",
       "      <td>-0.57545</td>\n",
       "      <td>-0.58331</td>\n",
       "      <td>-0.91699</td>\n",
       "      <td>...</td>\n",
       "      <td>CL0</td>\n",
       "      <td>CL0</td>\n",
       "      <td>CL0</td>\n",
       "      <td>CL0</td>\n",
       "      <td>CL0</td>\n",
       "      <td>CL0</td>\n",
       "      <td>CL0</td>\n",
       "      <td>CL2</td>\n",
       "      <td>CL0</td>\n",
       "      <td>CL0</td>\n",
       "    </tr>\n",
       "    <tr>\n",
       "      <th>1</th>\n",
       "      <td>2</td>\n",
       "      <td>-0.07854</td>\n",
       "      <td>-0.48246</td>\n",
       "      <td>1.98437</td>\n",
       "      <td>0.96082</td>\n",
       "      <td>-0.31685</td>\n",
       "      <td>-0.67825</td>\n",
       "      <td>1.93886</td>\n",
       "      <td>1.43533</td>\n",
       "      <td>0.76096</td>\n",
       "      <td>...</td>\n",
       "      <td>CL4</td>\n",
       "      <td>CL0</td>\n",
       "      <td>CL2</td>\n",
       "      <td>CL0</td>\n",
       "      <td>CL2</td>\n",
       "      <td>CL3</td>\n",
       "      <td>CL0</td>\n",
       "      <td>CL4</td>\n",
       "      <td>CL0</td>\n",
       "      <td>CL0</td>\n",
       "    </tr>\n",
       "    <tr>\n",
       "      <th>2</th>\n",
       "      <td>3</td>\n",
       "      <td>0.49788</td>\n",
       "      <td>-0.48246</td>\n",
       "      <td>-0.05921</td>\n",
       "      <td>0.96082</td>\n",
       "      <td>-0.31685</td>\n",
       "      <td>-0.46725</td>\n",
       "      <td>0.80523</td>\n",
       "      <td>-0.84732</td>\n",
       "      <td>-1.62090</td>\n",
       "      <td>...</td>\n",
       "      <td>CL0</td>\n",
       "      <td>CL0</td>\n",
       "      <td>CL0</td>\n",
       "      <td>CL0</td>\n",
       "      <td>CL0</td>\n",
       "      <td>CL0</td>\n",
       "      <td>CL1</td>\n",
       "      <td>CL0</td>\n",
       "      <td>CL0</td>\n",
       "      <td>CL0</td>\n",
       "    </tr>\n",
       "    <tr>\n",
       "      <th>3</th>\n",
       "      <td>4</td>\n",
       "      <td>-0.95197</td>\n",
       "      <td>0.48246</td>\n",
       "      <td>1.16365</td>\n",
       "      <td>0.96082</td>\n",
       "      <td>-0.31685</td>\n",
       "      <td>-0.14882</td>\n",
       "      <td>-0.80615</td>\n",
       "      <td>-0.01928</td>\n",
       "      <td>0.59042</td>\n",
       "      <td>...</td>\n",
       "      <td>CL0</td>\n",
       "      <td>CL0</td>\n",
       "      <td>CL2</td>\n",
       "      <td>CL0</td>\n",
       "      <td>CL0</td>\n",
       "      <td>CL0</td>\n",
       "      <td>CL0</td>\n",
       "      <td>CL2</td>\n",
       "      <td>CL0</td>\n",
       "      <td>CL0</td>\n",
       "    </tr>\n",
       "    <tr>\n",
       "      <th>4</th>\n",
       "      <td>5</td>\n",
       "      <td>0.49788</td>\n",
       "      <td>0.48246</td>\n",
       "      <td>1.98437</td>\n",
       "      <td>0.96082</td>\n",
       "      <td>-0.31685</td>\n",
       "      <td>0.73545</td>\n",
       "      <td>-1.63340</td>\n",
       "      <td>-0.45174</td>\n",
       "      <td>-0.30172</td>\n",
       "      <td>...</td>\n",
       "      <td>CL1</td>\n",
       "      <td>CL0</td>\n",
       "      <td>CL0</td>\n",
       "      <td>CL1</td>\n",
       "      <td>CL0</td>\n",
       "      <td>CL0</td>\n",
       "      <td>CL2</td>\n",
       "      <td>CL2</td>\n",
       "      <td>CL0</td>\n",
       "      <td>CL0</td>\n",
       "    </tr>\n",
       "    <tr>\n",
       "      <th>...</th>\n",
       "      <td>...</td>\n",
       "      <td>...</td>\n",
       "      <td>...</td>\n",
       "      <td>...</td>\n",
       "      <td>...</td>\n",
       "      <td>...</td>\n",
       "      <td>...</td>\n",
       "      <td>...</td>\n",
       "      <td>...</td>\n",
       "      <td>...</td>\n",
       "      <td>...</td>\n",
       "      <td>...</td>\n",
       "      <td>...</td>\n",
       "      <td>...</td>\n",
       "      <td>...</td>\n",
       "      <td>...</td>\n",
       "      <td>...</td>\n",
       "      <td>...</td>\n",
       "      <td>...</td>\n",
       "      <td>...</td>\n",
       "      <td>...</td>\n",
       "    </tr>\n",
       "    <tr>\n",
       "      <th>1880</th>\n",
       "      <td>1884</td>\n",
       "      <td>-0.95197</td>\n",
       "      <td>0.48246</td>\n",
       "      <td>-0.61113</td>\n",
       "      <td>-0.57009</td>\n",
       "      <td>-0.31685</td>\n",
       "      <td>-1.19430</td>\n",
       "      <td>1.74091</td>\n",
       "      <td>1.88511</td>\n",
       "      <td>0.76096</td>\n",
       "      <td>...</td>\n",
       "      <td>CL0</td>\n",
       "      <td>CL0</td>\n",
       "      <td>CL0</td>\n",
       "      <td>CL3</td>\n",
       "      <td>CL3</td>\n",
       "      <td>CL0</td>\n",
       "      <td>CL0</td>\n",
       "      <td>CL0</td>\n",
       "      <td>CL0</td>\n",
       "      <td>CL5</td>\n",
       "    </tr>\n",
       "    <tr>\n",
       "      <th>1881</th>\n",
       "      <td>1885</td>\n",
       "      <td>-0.95197</td>\n",
       "      <td>-0.48246</td>\n",
       "      <td>-0.61113</td>\n",
       "      <td>-0.57009</td>\n",
       "      <td>-0.31685</td>\n",
       "      <td>-0.24649</td>\n",
       "      <td>1.74091</td>\n",
       "      <td>0.58331</td>\n",
       "      <td>0.76096</td>\n",
       "      <td>...</td>\n",
       "      <td>CL2</td>\n",
       "      <td>CL0</td>\n",
       "      <td>CL0</td>\n",
       "      <td>CL3</td>\n",
       "      <td>CL5</td>\n",
       "      <td>CL4</td>\n",
       "      <td>CL4</td>\n",
       "      <td>CL5</td>\n",
       "      <td>CL0</td>\n",
       "      <td>CL0</td>\n",
       "    </tr>\n",
       "    <tr>\n",
       "      <th>1882</th>\n",
       "      <td>1886</td>\n",
       "      <td>-0.07854</td>\n",
       "      <td>0.48246</td>\n",
       "      <td>0.45468</td>\n",
       "      <td>-0.57009</td>\n",
       "      <td>-0.31685</td>\n",
       "      <td>1.13281</td>\n",
       "      <td>-1.37639</td>\n",
       "      <td>-1.27553</td>\n",
       "      <td>-1.77200</td>\n",
       "      <td>...</td>\n",
       "      <td>CL4</td>\n",
       "      <td>CL0</td>\n",
       "      <td>CL2</td>\n",
       "      <td>CL0</td>\n",
       "      <td>CL2</td>\n",
       "      <td>CL0</td>\n",
       "      <td>CL2</td>\n",
       "      <td>CL6</td>\n",
       "      <td>CL0</td>\n",
       "      <td>CL0</td>\n",
       "    </tr>\n",
       "    <tr>\n",
       "      <th>1883</th>\n",
       "      <td>1887</td>\n",
       "      <td>-0.95197</td>\n",
       "      <td>0.48246</td>\n",
       "      <td>-0.61113</td>\n",
       "      <td>-0.57009</td>\n",
       "      <td>-0.31685</td>\n",
       "      <td>0.91093</td>\n",
       "      <td>-1.92173</td>\n",
       "      <td>0.29338</td>\n",
       "      <td>-1.62090</td>\n",
       "      <td>...</td>\n",
       "      <td>CL3</td>\n",
       "      <td>CL0</td>\n",
       "      <td>CL0</td>\n",
       "      <td>CL3</td>\n",
       "      <td>CL3</td>\n",
       "      <td>CL0</td>\n",
       "      <td>CL3</td>\n",
       "      <td>CL4</td>\n",
       "      <td>CL0</td>\n",
       "      <td>CL0</td>\n",
       "    </tr>\n",
       "    <tr>\n",
       "      <th>1884</th>\n",
       "      <td>1888</td>\n",
       "      <td>-0.95197</td>\n",
       "      <td>-0.48246</td>\n",
       "      <td>-0.61113</td>\n",
       "      <td>0.21128</td>\n",
       "      <td>-0.31685</td>\n",
       "      <td>-0.46725</td>\n",
       "      <td>2.12700</td>\n",
       "      <td>1.65653</td>\n",
       "      <td>1.11406</td>\n",
       "      <td>...</td>\n",
       "      <td>CL3</td>\n",
       "      <td>CL0</td>\n",
       "      <td>CL0</td>\n",
       "      <td>CL3</td>\n",
       "      <td>CL3</td>\n",
       "      <td>CL0</td>\n",
       "      <td>CL3</td>\n",
       "      <td>CL6</td>\n",
       "      <td>CL0</td>\n",
       "      <td>CL2</td>\n",
       "    </tr>\n",
       "  </tbody>\n",
       "</table>\n",
       "<p>1885 rows × 32 columns</p>\n",
       "</div>"
      ],
      "text/plain": [
       "        ID      Age   Gender  Education  Country  Ethnicity   Nscore   Escore  \\\n",
       "0        1  0.49788  0.48246   -0.05921  0.96082    0.12600  0.31287 -0.57545   \n",
       "1        2 -0.07854 -0.48246    1.98437  0.96082   -0.31685 -0.67825  1.93886   \n",
       "2        3  0.49788 -0.48246   -0.05921  0.96082   -0.31685 -0.46725  0.80523   \n",
       "3        4 -0.95197  0.48246    1.16365  0.96082   -0.31685 -0.14882 -0.80615   \n",
       "4        5  0.49788  0.48246    1.98437  0.96082   -0.31685  0.73545 -1.63340   \n",
       "...    ...      ...      ...        ...      ...        ...      ...      ...   \n",
       "1880  1884 -0.95197  0.48246   -0.61113 -0.57009   -0.31685 -1.19430  1.74091   \n",
       "1881  1885 -0.95197 -0.48246   -0.61113 -0.57009   -0.31685 -0.24649  1.74091   \n",
       "1882  1886 -0.07854  0.48246    0.45468 -0.57009   -0.31685  1.13281 -1.37639   \n",
       "1883  1887 -0.95197  0.48246   -0.61113 -0.57009   -0.31685  0.91093 -1.92173   \n",
       "1884  1888 -0.95197 -0.48246   -0.61113  0.21128   -0.31685 -0.46725  2.12700   \n",
       "\n",
       "       Oscore   Ascore  ...  Ecstasy Consum  Heroin Consum  Ketamine Consum  \\\n",
       "0    -0.58331 -0.91699  ...             CL0            CL0              CL0   \n",
       "1     1.43533  0.76096  ...             CL4            CL0              CL2   \n",
       "2    -0.84732 -1.62090  ...             CL0            CL0              CL0   \n",
       "3    -0.01928  0.59042  ...             CL0            CL0              CL2   \n",
       "4    -0.45174 -0.30172  ...             CL1            CL0              CL0   \n",
       "...       ...      ...  ...             ...            ...              ...   \n",
       "1880  1.88511  0.76096  ...             CL0            CL0              CL0   \n",
       "1881  0.58331  0.76096  ...             CL2            CL0              CL0   \n",
       "1882 -1.27553 -1.77200  ...             CL4            CL0              CL2   \n",
       "1883  0.29338 -1.62090  ...             CL3            CL0              CL0   \n",
       "1884  1.65653  1.11406  ...             CL3            CL0              CL0   \n",
       "\n",
       "     Legalh Consum LSD Consum Meth Consum Mushrooms Consum Nicotine Consum  \\\n",
       "0              CL0        CL0         CL0              CL0             CL2   \n",
       "1              CL0        CL2         CL3              CL0             CL4   \n",
       "2              CL0        CL0         CL0              CL1             CL0   \n",
       "3              CL0        CL0         CL0              CL0             CL2   \n",
       "4              CL1        CL0         CL0              CL2             CL2   \n",
       "...            ...        ...         ...              ...             ...   \n",
       "1880           CL3        CL3         CL0              CL0             CL0   \n",
       "1881           CL3        CL5         CL4              CL4             CL5   \n",
       "1882           CL0        CL2         CL0              CL2             CL6   \n",
       "1883           CL3        CL3         CL0              CL3             CL4   \n",
       "1884           CL3        CL3         CL0              CL3             CL6   \n",
       "\n",
       "     Semeron Consum VSA Consum  \n",
       "0               CL0        CL0  \n",
       "1               CL0        CL0  \n",
       "2               CL0        CL0  \n",
       "3               CL0        CL0  \n",
       "4               CL0        CL0  \n",
       "...             ...        ...  \n",
       "1880            CL0        CL5  \n",
       "1881            CL0        CL0  \n",
       "1882            CL0        CL0  \n",
       "1883            CL0        CL0  \n",
       "1884            CL0        CL2  \n",
       "\n",
       "[1885 rows x 32 columns]"
      ]
     },
     "execution_count": 54,
     "metadata": {},
     "output_type": "execute_result"
    }
   ],
   "source": [
    "df"
   ]
  },
  {
   "cell_type": "code",
   "execution_count": 55,
   "metadata": {},
   "outputs": [
    {
     "data": {
      "text/html": [
       "<div>\n",
       "<style scoped>\n",
       "    .dataframe tbody tr th:only-of-type {\n",
       "        vertical-align: middle;\n",
       "    }\n",
       "\n",
       "    .dataframe tbody tr th {\n",
       "        vertical-align: top;\n",
       "    }\n",
       "\n",
       "    .dataframe thead th {\n",
       "        text-align: right;\n",
       "    }\n",
       "</style>\n",
       "<table border=\"1\" class=\"dataframe\">\n",
       "  <thead>\n",
       "    <tr style=\"text-align: right;\">\n",
       "      <th></th>\n",
       "      <th>ID</th>\n",
       "      <th>Age</th>\n",
       "      <th>Gender</th>\n",
       "      <th>Education</th>\n",
       "      <th>Country</th>\n",
       "      <th>Ethnicity</th>\n",
       "      <th>Nscore</th>\n",
       "      <th>Escore</th>\n",
       "      <th>Oscore</th>\n",
       "      <th>Ascore</th>\n",
       "      <th>Cscore</th>\n",
       "      <th>Impulsive</th>\n",
       "      <th>SS</th>\n",
       "    </tr>\n",
       "  </thead>\n",
       "  <tbody>\n",
       "    <tr>\n",
       "      <th>count</th>\n",
       "      <td>1885.000000</td>\n",
       "      <td>1885.00000</td>\n",
       "      <td>1885.000000</td>\n",
       "      <td>1885.000000</td>\n",
       "      <td>1885.000000</td>\n",
       "      <td>1885.000000</td>\n",
       "      <td>1885.000000</td>\n",
       "      <td>1885.000000</td>\n",
       "      <td>1885.000000</td>\n",
       "      <td>1885.000000</td>\n",
       "      <td>1885.000000</td>\n",
       "      <td>1885.000000</td>\n",
       "      <td>1885.000000</td>\n",
       "    </tr>\n",
       "    <tr>\n",
       "      <th>mean</th>\n",
       "      <td>945.294960</td>\n",
       "      <td>0.03461</td>\n",
       "      <td>-0.000256</td>\n",
       "      <td>-0.003806</td>\n",
       "      <td>0.355542</td>\n",
       "      <td>-0.309577</td>\n",
       "      <td>0.000047</td>\n",
       "      <td>-0.000163</td>\n",
       "      <td>-0.000534</td>\n",
       "      <td>-0.000245</td>\n",
       "      <td>-0.000386</td>\n",
       "      <td>0.007216</td>\n",
       "      <td>-0.003292</td>\n",
       "    </tr>\n",
       "    <tr>\n",
       "      <th>std</th>\n",
       "      <td>545.167641</td>\n",
       "      <td>0.87836</td>\n",
       "      <td>0.482588</td>\n",
       "      <td>0.950078</td>\n",
       "      <td>0.700335</td>\n",
       "      <td>0.166226</td>\n",
       "      <td>0.998106</td>\n",
       "      <td>0.997448</td>\n",
       "      <td>0.996229</td>\n",
       "      <td>0.997440</td>\n",
       "      <td>0.997523</td>\n",
       "      <td>0.954435</td>\n",
       "      <td>0.963701</td>\n",
       "    </tr>\n",
       "    <tr>\n",
       "      <th>min</th>\n",
       "      <td>1.000000</td>\n",
       "      <td>-0.95197</td>\n",
       "      <td>-0.482460</td>\n",
       "      <td>-2.435910</td>\n",
       "      <td>-0.570090</td>\n",
       "      <td>-1.107020</td>\n",
       "      <td>-3.464360</td>\n",
       "      <td>-3.273930</td>\n",
       "      <td>-3.273930</td>\n",
       "      <td>-3.464360</td>\n",
       "      <td>-3.464360</td>\n",
       "      <td>-2.555240</td>\n",
       "      <td>-2.078480</td>\n",
       "    </tr>\n",
       "    <tr>\n",
       "      <th>25%</th>\n",
       "      <td>474.000000</td>\n",
       "      <td>-0.95197</td>\n",
       "      <td>-0.482460</td>\n",
       "      <td>-0.611130</td>\n",
       "      <td>-0.570090</td>\n",
       "      <td>-0.316850</td>\n",
       "      <td>-0.678250</td>\n",
       "      <td>-0.695090</td>\n",
       "      <td>-0.717270</td>\n",
       "      <td>-0.606330</td>\n",
       "      <td>-0.652530</td>\n",
       "      <td>-0.711260</td>\n",
       "      <td>-0.525930</td>\n",
       "    </tr>\n",
       "    <tr>\n",
       "      <th>50%</th>\n",
       "      <td>946.000000</td>\n",
       "      <td>-0.07854</td>\n",
       "      <td>-0.482460</td>\n",
       "      <td>-0.059210</td>\n",
       "      <td>0.960820</td>\n",
       "      <td>-0.316850</td>\n",
       "      <td>0.042570</td>\n",
       "      <td>0.003320</td>\n",
       "      <td>-0.019280</td>\n",
       "      <td>-0.017290</td>\n",
       "      <td>-0.006650</td>\n",
       "      <td>-0.217120</td>\n",
       "      <td>0.079870</td>\n",
       "    </tr>\n",
       "    <tr>\n",
       "      <th>75%</th>\n",
       "      <td>1417.000000</td>\n",
       "      <td>0.49788</td>\n",
       "      <td>0.482460</td>\n",
       "      <td>0.454680</td>\n",
       "      <td>0.960820</td>\n",
       "      <td>-0.316850</td>\n",
       "      <td>0.629670</td>\n",
       "      <td>0.637790</td>\n",
       "      <td>0.723300</td>\n",
       "      <td>0.760960</td>\n",
       "      <td>0.584890</td>\n",
       "      <td>0.529750</td>\n",
       "      <td>0.765400</td>\n",
       "    </tr>\n",
       "    <tr>\n",
       "      <th>max</th>\n",
       "      <td>1888.000000</td>\n",
       "      <td>2.59171</td>\n",
       "      <td>0.482460</td>\n",
       "      <td>1.984370</td>\n",
       "      <td>0.960820</td>\n",
       "      <td>1.907250</td>\n",
       "      <td>3.273930</td>\n",
       "      <td>3.273930</td>\n",
       "      <td>2.901610</td>\n",
       "      <td>3.464360</td>\n",
       "      <td>3.464360</td>\n",
       "      <td>2.901610</td>\n",
       "      <td>1.921730</td>\n",
       "    </tr>\n",
       "  </tbody>\n",
       "</table>\n",
       "</div>"
      ],
      "text/plain": [
       "                ID         Age       Gender    Education      Country  \\\n",
       "count  1885.000000  1885.00000  1885.000000  1885.000000  1885.000000   \n",
       "mean    945.294960     0.03461    -0.000256    -0.003806     0.355542   \n",
       "std     545.167641     0.87836     0.482588     0.950078     0.700335   \n",
       "min       1.000000    -0.95197    -0.482460    -2.435910    -0.570090   \n",
       "25%     474.000000    -0.95197    -0.482460    -0.611130    -0.570090   \n",
       "50%     946.000000    -0.07854    -0.482460    -0.059210     0.960820   \n",
       "75%    1417.000000     0.49788     0.482460     0.454680     0.960820   \n",
       "max    1888.000000     2.59171     0.482460     1.984370     0.960820   \n",
       "\n",
       "         Ethnicity       Nscore       Escore       Oscore       Ascore  \\\n",
       "count  1885.000000  1885.000000  1885.000000  1885.000000  1885.000000   \n",
       "mean     -0.309577     0.000047    -0.000163    -0.000534    -0.000245   \n",
       "std       0.166226     0.998106     0.997448     0.996229     0.997440   \n",
       "min      -1.107020    -3.464360    -3.273930    -3.273930    -3.464360   \n",
       "25%      -0.316850    -0.678250    -0.695090    -0.717270    -0.606330   \n",
       "50%      -0.316850     0.042570     0.003320    -0.019280    -0.017290   \n",
       "75%      -0.316850     0.629670     0.637790     0.723300     0.760960   \n",
       "max       1.907250     3.273930     3.273930     2.901610     3.464360   \n",
       "\n",
       "            Cscore    Impulsive           SS  \n",
       "count  1885.000000  1885.000000  1885.000000  \n",
       "mean     -0.000386     0.007216    -0.003292  \n",
       "std       0.997523     0.954435     0.963701  \n",
       "min      -3.464360    -2.555240    -2.078480  \n",
       "25%      -0.652530    -0.711260    -0.525930  \n",
       "50%      -0.006650    -0.217120     0.079870  \n",
       "75%       0.584890     0.529750     0.765400  \n",
       "max       3.464360     2.901610     1.921730  "
      ]
     },
     "execution_count": 55,
     "metadata": {},
     "output_type": "execute_result"
    }
   ],
   "source": [
    "df.describe()"
   ]
  },
  {
   "cell_type": "code",
   "execution_count": 56,
   "metadata": {},
   "outputs": [
    {
     "data": {
      "text/plain": [
       "ID                    int64\n",
       "Age                 float64\n",
       "Gender              float64\n",
       "Education           float64\n",
       "Country             float64\n",
       "Ethnicity           float64\n",
       "Nscore              float64\n",
       "Escore              float64\n",
       "Oscore              float64\n",
       "Ascore              float64\n",
       "Cscore              float64\n",
       "Impulsive           float64\n",
       "SS                  float64\n",
       "Alcohol Consum       object\n",
       "Amphet Consum        object\n",
       "Amyl Consum          object\n",
       "Benzos Consum        object\n",
       "Caff Consum          object\n",
       "Cannabis Consum      object\n",
       "Choc Consum          object\n",
       "Coke Consum          object\n",
       "Crack Consum         object\n",
       "Ecstasy Consum       object\n",
       "Heroin Consum        object\n",
       "Ketamine Consum      object\n",
       "Legalh Consum        object\n",
       "LSD Consum           object\n",
       "Meth Consum          object\n",
       "Mushrooms Consum     object\n",
       "Nicotine Consum      object\n",
       "Semeron Consum       object\n",
       "VSA Consum           object\n",
       "dtype: object"
      ]
     },
     "execution_count": 56,
     "metadata": {},
     "output_type": "execute_result"
    }
   ],
   "source": [
    "df.dtypes"
   ]
  },
  {
   "cell_type": "markdown",
   "metadata": {},
   "source": [
    "# Functions"
   ]
  },
  {
   "cell_type": "code",
   "execution_count": 58,
   "metadata": {},
   "outputs": [],
   "source": [
    "def df_count_perc(df,column):\n",
    "    count = df[column].value_counts()\n",
    "    perc = df[column].value_counts(normalize=True) * 100\n",
    "    \n",
    "    return pd.concat([count,perc.round(2)], axis=1, keys=['N', '%'])"
   ]
  },
  {
   "cell_type": "markdown",
   "metadata": {},
   "source": [
    "# Data cleaning"
   ]
  },
  {
   "cell_type": "code",
   "execution_count": 59,
   "metadata": {},
   "outputs": [
    {
     "data": {
      "text/plain": [
       "ID                  0\n",
       "Age                 0\n",
       "Gender              0\n",
       "Education           0\n",
       "Country             0\n",
       "Ethnicity           0\n",
       "Nscore              0\n",
       "Escore              0\n",
       "Oscore              0\n",
       "Ascore              0\n",
       "Cscore              0\n",
       "Impulsive           0\n",
       "SS                  0\n",
       "Alcohol Consum      0\n",
       "Amphet Consum       0\n",
       "Amyl Consum         0\n",
       "Benzos Consum       0\n",
       "Caff Consum         0\n",
       "Cannabis Consum     0\n",
       "Choc Consum         0\n",
       "Coke Consum         0\n",
       "Crack Consum        0\n",
       "Ecstasy Consum      0\n",
       "Heroin Consum       0\n",
       "Ketamine Consum     0\n",
       "Legalh Consum       0\n",
       "LSD Consum          0\n",
       "Meth Consum         0\n",
       "Mushrooms Consum    0\n",
       "Nicotine Consum     0\n",
       "Semeron Consum      0\n",
       "VSA Consum          0\n",
       "dtype: int64"
      ]
     },
     "execution_count": 59,
     "metadata": {},
     "output_type": "execute_result"
    }
   ],
   "source": [
    "df.isnull().sum()"
   ]
  },
  {
   "cell_type": "markdown",
   "metadata": {},
   "source": [
    "## Age range"
   ]
  },
  {
   "cell_type": "code",
   "execution_count": 60,
   "metadata": {},
   "outputs": [],
   "source": [
    "ages = ['18-24' if x <= -0.9 else \n",
    "           '25-34' if x >= -0.5 and x < 0 else \n",
    "           '35-44' if x > 0 and x < 1 else \n",
    "           '45-54' if x > 1 and x < 1.5 else \n",
    "           '55-64' if x > 1.5 and x < 2 else \n",
    "           '65+'\n",
    "            for x in df[\"Age\"]]\n",
    "df[\"Ages\"] = ages"
   ]
  },
  {
   "cell_type": "code",
   "execution_count": 61,
   "metadata": {},
   "outputs": [
    {
     "data": {
      "text/html": [
       "<div>\n",
       "<style scoped>\n",
       "    .dataframe tbody tr th:only-of-type {\n",
       "        vertical-align: middle;\n",
       "    }\n",
       "\n",
       "    .dataframe tbody tr th {\n",
       "        vertical-align: top;\n",
       "    }\n",
       "\n",
       "    .dataframe thead th {\n",
       "        text-align: right;\n",
       "    }\n",
       "</style>\n",
       "<table border=\"1\" class=\"dataframe\">\n",
       "  <thead>\n",
       "    <tr style=\"text-align: right;\">\n",
       "      <th></th>\n",
       "      <th>N</th>\n",
       "      <th>%</th>\n",
       "    </tr>\n",
       "  </thead>\n",
       "  <tbody>\n",
       "    <tr>\n",
       "      <th>18-24</th>\n",
       "      <td>643</td>\n",
       "      <td>34.11</td>\n",
       "    </tr>\n",
       "    <tr>\n",
       "      <th>25-34</th>\n",
       "      <td>481</td>\n",
       "      <td>25.52</td>\n",
       "    </tr>\n",
       "    <tr>\n",
       "      <th>35-44</th>\n",
       "      <td>356</td>\n",
       "      <td>18.89</td>\n",
       "    </tr>\n",
       "    <tr>\n",
       "      <th>45-54</th>\n",
       "      <td>294</td>\n",
       "      <td>15.60</td>\n",
       "    </tr>\n",
       "    <tr>\n",
       "      <th>55-64</th>\n",
       "      <td>93</td>\n",
       "      <td>4.93</td>\n",
       "    </tr>\n",
       "    <tr>\n",
       "      <th>65+</th>\n",
       "      <td>18</td>\n",
       "      <td>0.95</td>\n",
       "    </tr>\n",
       "  </tbody>\n",
       "</table>\n",
       "</div>"
      ],
      "text/plain": [
       "         N      %\n",
       "18-24  643  34.11\n",
       "25-34  481  25.52\n",
       "35-44  356  18.89\n",
       "45-54  294  15.60\n",
       "55-64   93   4.93\n",
       "65+     18   0.95"
      ]
     },
     "execution_count": 61,
     "metadata": {},
     "output_type": "execute_result"
    }
   ],
   "source": [
    "df_count_perc(df,\"Ages\")"
   ]
  },
  {
   "cell_type": "markdown",
   "metadata": {},
   "source": [
    "## Gender name Female or Male"
   ]
  },
  {
   "cell_type": "code",
   "execution_count": 62,
   "metadata": {},
   "outputs": [
    {
     "data": {
      "text/html": [
       "<div>\n",
       "<style scoped>\n",
       "    .dataframe tbody tr th:only-of-type {\n",
       "        vertical-align: middle;\n",
       "    }\n",
       "\n",
       "    .dataframe tbody tr th {\n",
       "        vertical-align: top;\n",
       "    }\n",
       "\n",
       "    .dataframe thead th {\n",
       "        text-align: right;\n",
       "    }\n",
       "</style>\n",
       "<table border=\"1\" class=\"dataframe\">\n",
       "  <thead>\n",
       "    <tr style=\"text-align: right;\">\n",
       "      <th></th>\n",
       "      <th>Gender</th>\n",
       "      <th>Genders</th>\n",
       "    </tr>\n",
       "  </thead>\n",
       "  <tbody>\n",
       "    <tr>\n",
       "      <th>0</th>\n",
       "      <td>0.48246</td>\n",
       "      <td>F</td>\n",
       "    </tr>\n",
       "    <tr>\n",
       "      <th>1</th>\n",
       "      <td>-0.48246</td>\n",
       "      <td>M</td>\n",
       "    </tr>\n",
       "    <tr>\n",
       "      <th>2</th>\n",
       "      <td>-0.48246</td>\n",
       "      <td>M</td>\n",
       "    </tr>\n",
       "    <tr>\n",
       "      <th>3</th>\n",
       "      <td>0.48246</td>\n",
       "      <td>F</td>\n",
       "    </tr>\n",
       "    <tr>\n",
       "      <th>4</th>\n",
       "      <td>0.48246</td>\n",
       "      <td>F</td>\n",
       "    </tr>\n",
       "    <tr>\n",
       "      <th>...</th>\n",
       "      <td>...</td>\n",
       "      <td>...</td>\n",
       "    </tr>\n",
       "    <tr>\n",
       "      <th>1880</th>\n",
       "      <td>0.48246</td>\n",
       "      <td>F</td>\n",
       "    </tr>\n",
       "    <tr>\n",
       "      <th>1881</th>\n",
       "      <td>-0.48246</td>\n",
       "      <td>M</td>\n",
       "    </tr>\n",
       "    <tr>\n",
       "      <th>1882</th>\n",
       "      <td>0.48246</td>\n",
       "      <td>F</td>\n",
       "    </tr>\n",
       "    <tr>\n",
       "      <th>1883</th>\n",
       "      <td>0.48246</td>\n",
       "      <td>F</td>\n",
       "    </tr>\n",
       "    <tr>\n",
       "      <th>1884</th>\n",
       "      <td>-0.48246</td>\n",
       "      <td>M</td>\n",
       "    </tr>\n",
       "  </tbody>\n",
       "</table>\n",
       "<p>1885 rows × 2 columns</p>\n",
       "</div>"
      ],
      "text/plain": [
       "       Gender Genders\n",
       "0     0.48246       F\n",
       "1    -0.48246       M\n",
       "2    -0.48246       M\n",
       "3     0.48246       F\n",
       "4     0.48246       F\n",
       "...       ...     ...\n",
       "1880  0.48246       F\n",
       "1881 -0.48246       M\n",
       "1882  0.48246       F\n",
       "1883  0.48246       F\n",
       "1884 -0.48246       M\n",
       "\n",
       "[1885 rows x 2 columns]"
      ]
     },
     "execution_count": 62,
     "metadata": {},
     "output_type": "execute_result"
    }
   ],
   "source": [
    "df[\"Genders\"] = [\"M\" if x<0 else \"F\" for x in df[\"Gender\"]]"
   ]
  },
  {
   "cell_type": "code",
   "execution_count": 63,
   "metadata": {},
   "outputs": [
    {
     "data": {
      "text/html": [
       "<div>\n",
       "<style scoped>\n",
       "    .dataframe tbody tr th:only-of-type {\n",
       "        vertical-align: middle;\n",
       "    }\n",
       "\n",
       "    .dataframe tbody tr th {\n",
       "        vertical-align: top;\n",
       "    }\n",
       "\n",
       "    .dataframe thead th {\n",
       "        text-align: right;\n",
       "    }\n",
       "</style>\n",
       "<table border=\"1\" class=\"dataframe\">\n",
       "  <thead>\n",
       "    <tr style=\"text-align: right;\">\n",
       "      <th></th>\n",
       "      <th>N</th>\n",
       "      <th>%</th>\n",
       "    </tr>\n",
       "  </thead>\n",
       "  <tbody>\n",
       "    <tr>\n",
       "      <th>M</th>\n",
       "      <td>943</td>\n",
       "      <td>50.03</td>\n",
       "    </tr>\n",
       "    <tr>\n",
       "      <th>F</th>\n",
       "      <td>942</td>\n",
       "      <td>49.97</td>\n",
       "    </tr>\n",
       "  </tbody>\n",
       "</table>\n",
       "</div>"
      ],
      "text/plain": [
       "     N      %\n",
       "M  943  50.03\n",
       "F  942  49.97"
      ]
     },
     "execution_count": 63,
     "metadata": {},
     "output_type": "execute_result"
    }
   ],
   "source": [
    "df_count_perc(df,\"Genders\")"
   ]
  },
  {
   "cell_type": "markdown",
   "metadata": {},
   "source": [
    "## Country name"
   ]
  },
  {
   "cell_type": "code",
   "execution_count": 64,
   "metadata": {},
   "outputs": [
    {
     "data": {
      "text/html": [
       "<div>\n",
       "<style scoped>\n",
       "    .dataframe tbody tr th:only-of-type {\n",
       "        vertical-align: middle;\n",
       "    }\n",
       "\n",
       "    .dataframe tbody tr th {\n",
       "        vertical-align: top;\n",
       "    }\n",
       "\n",
       "    .dataframe thead th {\n",
       "        text-align: right;\n",
       "    }\n",
       "</style>\n",
       "<table border=\"1\" class=\"dataframe\">\n",
       "  <thead>\n",
       "    <tr style=\"text-align: right;\">\n",
       "      <th></th>\n",
       "      <th>Countries</th>\n",
       "      <th>Country</th>\n",
       "    </tr>\n",
       "  </thead>\n",
       "  <tbody>\n",
       "    <tr>\n",
       "      <th>0</th>\n",
       "      <td>UK</td>\n",
       "      <td>0.96082</td>\n",
       "    </tr>\n",
       "    <tr>\n",
       "      <th>1</th>\n",
       "      <td>UK</td>\n",
       "      <td>0.96082</td>\n",
       "    </tr>\n",
       "    <tr>\n",
       "      <th>2</th>\n",
       "      <td>UK</td>\n",
       "      <td>0.96082</td>\n",
       "    </tr>\n",
       "    <tr>\n",
       "      <th>3</th>\n",
       "      <td>UK</td>\n",
       "      <td>0.96082</td>\n",
       "    </tr>\n",
       "    <tr>\n",
       "      <th>4</th>\n",
       "      <td>UK</td>\n",
       "      <td>0.96082</td>\n",
       "    </tr>\n",
       "    <tr>\n",
       "      <th>...</th>\n",
       "      <td>...</td>\n",
       "      <td>...</td>\n",
       "    </tr>\n",
       "    <tr>\n",
       "      <th>1880</th>\n",
       "      <td>USA</td>\n",
       "      <td>-0.57009</td>\n",
       "    </tr>\n",
       "    <tr>\n",
       "      <th>1881</th>\n",
       "      <td>USA</td>\n",
       "      <td>-0.57009</td>\n",
       "    </tr>\n",
       "    <tr>\n",
       "      <th>1882</th>\n",
       "      <td>USA</td>\n",
       "      <td>-0.57009</td>\n",
       "    </tr>\n",
       "    <tr>\n",
       "      <th>1883</th>\n",
       "      <td>USA</td>\n",
       "      <td>-0.57009</td>\n",
       "    </tr>\n",
       "    <tr>\n",
       "      <th>1884</th>\n",
       "      <td>Ireland</td>\n",
       "      <td>0.21128</td>\n",
       "    </tr>\n",
       "  </tbody>\n",
       "</table>\n",
       "<p>1885 rows × 2 columns</p>\n",
       "</div>"
      ],
      "text/plain": [
       "     Countries  Country\n",
       "0           UK  0.96082\n",
       "1           UK  0.96082\n",
       "2           UK  0.96082\n",
       "3           UK  0.96082\n",
       "4           UK  0.96082\n",
       "...        ...      ...\n",
       "1880       USA -0.57009\n",
       "1881       USA -0.57009\n",
       "1882       USA -0.57009\n",
       "1883       USA -0.57009\n",
       "1884   Ireland  0.21128\n",
       "\n",
       "[1885 rows x 2 columns]"
      ]
     },
     "execution_count": 64,
     "metadata": {},
     "output_type": "execute_result"
    }
   ],
   "source": [
    "countries = ['USA' if x < -0.5 else \n",
    "           'New Zealand' if x > -0.5 and x < -0.4 else \n",
    "           'Other' if x > -0.4 and x < -0.2 else \n",
    "           'Australia' if x > -0.2 and x < 0 else \n",
    "           'Ireland' if x > 0 and x < 0.23 else \n",
    "           'Canada' if x > 0.23 and x < 0.9 else \n",
    "           'UK' \n",
    "           for x in df[\"Country\"]]\n",
    "df[\"Countries\"]=countries\n",
    "df[[\"Countries\",\"Country\"]]"
   ]
  },
  {
   "cell_type": "code",
   "execution_count": 65,
   "metadata": {},
   "outputs": [
    {
     "data": {
      "text/html": [
       "<div>\n",
       "<style scoped>\n",
       "    .dataframe tbody tr th:only-of-type {\n",
       "        vertical-align: middle;\n",
       "    }\n",
       "\n",
       "    .dataframe tbody tr th {\n",
       "        vertical-align: top;\n",
       "    }\n",
       "\n",
       "    .dataframe thead th {\n",
       "        text-align: right;\n",
       "    }\n",
       "</style>\n",
       "<table border=\"1\" class=\"dataframe\">\n",
       "  <thead>\n",
       "    <tr style=\"text-align: right;\">\n",
       "      <th></th>\n",
       "      <th>N</th>\n",
       "      <th>%</th>\n",
       "    </tr>\n",
       "  </thead>\n",
       "  <tbody>\n",
       "    <tr>\n",
       "      <th>UK</th>\n",
       "      <td>1044</td>\n",
       "      <td>55.38</td>\n",
       "    </tr>\n",
       "    <tr>\n",
       "      <th>USA</th>\n",
       "      <td>557</td>\n",
       "      <td>29.55</td>\n",
       "    </tr>\n",
       "    <tr>\n",
       "      <th>Other</th>\n",
       "      <td>118</td>\n",
       "      <td>6.26</td>\n",
       "    </tr>\n",
       "    <tr>\n",
       "      <th>Canada</th>\n",
       "      <td>87</td>\n",
       "      <td>4.62</td>\n",
       "    </tr>\n",
       "    <tr>\n",
       "      <th>Australia</th>\n",
       "      <td>54</td>\n",
       "      <td>2.86</td>\n",
       "    </tr>\n",
       "    <tr>\n",
       "      <th>Ireland</th>\n",
       "      <td>20</td>\n",
       "      <td>1.06</td>\n",
       "    </tr>\n",
       "    <tr>\n",
       "      <th>New Zealand</th>\n",
       "      <td>5</td>\n",
       "      <td>0.27</td>\n",
       "    </tr>\n",
       "  </tbody>\n",
       "</table>\n",
       "</div>"
      ],
      "text/plain": [
       "                N      %\n",
       "UK           1044  55.38\n",
       "USA           557  29.55\n",
       "Other         118   6.26\n",
       "Canada         87   4.62\n",
       "Australia      54   2.86\n",
       "Ireland        20   1.06\n",
       "New Zealand     5   0.27"
      ]
     },
     "execution_count": 65,
     "metadata": {},
     "output_type": "execute_result"
    }
   ],
   "source": [
    "df_count_perc(df,\"Countries\")"
   ]
  },
  {
   "cell_type": "markdown",
   "metadata": {},
   "source": [
    "## Ethnicities"
   ]
  },
  {
   "cell_type": "code",
   "execution_count": 66,
   "metadata": {},
   "outputs": [],
   "source": [
    "ethnicities = ['Black' if x < -1 else \n",
    "             'Asian' if x > -1 and x < -0.4 else \n",
    "             'White' if x > -0.4 and x < -0.25 else \n",
    "             'Mixed-White/Black' if x >= -0.25 and x < 0.11 else \n",
    "             'Mixed-White/Asian' if x > 0.12 and x < 1 else \n",
    "             'Mixed-Black/Asian' if x > 1.9 else \n",
    "             'Other' \n",
    "             for x in df['Ethnicity']]\n",
    "df[\"Ethnicities\"]=ethnicities"
   ]
  },
  {
   "cell_type": "code",
   "execution_count": 67,
   "metadata": {},
   "outputs": [
    {
     "data": {
      "text/html": [
       "<div>\n",
       "<style scoped>\n",
       "    .dataframe tbody tr th:only-of-type {\n",
       "        vertical-align: middle;\n",
       "    }\n",
       "\n",
       "    .dataframe tbody tr th {\n",
       "        vertical-align: top;\n",
       "    }\n",
       "\n",
       "    .dataframe thead th {\n",
       "        text-align: right;\n",
       "    }\n",
       "</style>\n",
       "<table border=\"1\" class=\"dataframe\">\n",
       "  <thead>\n",
       "    <tr style=\"text-align: right;\">\n",
       "      <th></th>\n",
       "      <th>N</th>\n",
       "      <th>%</th>\n",
       "    </tr>\n",
       "  </thead>\n",
       "  <tbody>\n",
       "    <tr>\n",
       "      <th>White</th>\n",
       "      <td>1720</td>\n",
       "      <td>91.25</td>\n",
       "    </tr>\n",
       "    <tr>\n",
       "      <th>Other</th>\n",
       "      <td>63</td>\n",
       "      <td>3.34</td>\n",
       "    </tr>\n",
       "    <tr>\n",
       "      <th>Black</th>\n",
       "      <td>33</td>\n",
       "      <td>1.75</td>\n",
       "    </tr>\n",
       "    <tr>\n",
       "      <th>Asian</th>\n",
       "      <td>26</td>\n",
       "      <td>1.38</td>\n",
       "    </tr>\n",
       "    <tr>\n",
       "      <th>Mixed-White/Black</th>\n",
       "      <td>20</td>\n",
       "      <td>1.06</td>\n",
       "    </tr>\n",
       "    <tr>\n",
       "      <th>Mixed-White/Asian</th>\n",
       "      <td>20</td>\n",
       "      <td>1.06</td>\n",
       "    </tr>\n",
       "    <tr>\n",
       "      <th>Mixed-Black/Asian</th>\n",
       "      <td>3</td>\n",
       "      <td>0.16</td>\n",
       "    </tr>\n",
       "  </tbody>\n",
       "</table>\n",
       "</div>"
      ],
      "text/plain": [
       "                      N      %\n",
       "White              1720  91.25\n",
       "Other                63   3.34\n",
       "Black                33   1.75\n",
       "Asian                26   1.38\n",
       "Mixed-White/Black    20   1.06\n",
       "Mixed-White/Asian    20   1.06\n",
       "Mixed-Black/Asian     3   0.16"
      ]
     },
     "execution_count": 67,
     "metadata": {},
     "output_type": "execute_result"
    }
   ],
   "source": [
    "df_count_perc(df,\"Ethnicities\")"
   ]
  },
  {
   "cell_type": "markdown",
   "metadata": {},
   "source": [
    "## Education"
   ]
  },
  {
   "cell_type": "code",
   "execution_count": 68,
   "metadata": {},
   "outputs": [],
   "source": [
    "educations =['Left school before 16 years' if x <-2 else \n",
    "             'Left school at 16 years' if x > -2 and x < -1.5 else \n",
    "             'Left school at 17 years' if x > -1.5 and x < -1.4 else \n",
    "             'Left school at 18 years' if x > -1.4 and x < -1 else \n",
    "             'Some college or university, no certificate or degree' if x > -1 and x < -0.5 else \n",
    "             'Professional certificate/ diploma' if x > -0.5 and x < 0 else \n",
    "             'University degree' if x > 0 and x < 0.5 else \n",
    "             'Masters degree' if x > 0.5 and x < 1.5 else \n",
    "             'Doctorate degree' \n",
    "             for x in df['Education']]\n",
    "df[\"Educations\"]= educations"
   ]
  },
  {
   "cell_type": "code",
   "execution_count": 69,
   "metadata": {},
   "outputs": [
    {
     "data": {
      "text/html": [
       "<div>\n",
       "<style scoped>\n",
       "    .dataframe tbody tr th:only-of-type {\n",
       "        vertical-align: middle;\n",
       "    }\n",
       "\n",
       "    .dataframe tbody tr th {\n",
       "        vertical-align: top;\n",
       "    }\n",
       "\n",
       "    .dataframe thead th {\n",
       "        text-align: right;\n",
       "    }\n",
       "</style>\n",
       "<table border=\"1\" class=\"dataframe\">\n",
       "  <thead>\n",
       "    <tr style=\"text-align: right;\">\n",
       "      <th></th>\n",
       "      <th>N</th>\n",
       "      <th>%</th>\n",
       "    </tr>\n",
       "  </thead>\n",
       "  <tbody>\n",
       "    <tr>\n",
       "      <th>Some college or university, no certificate or degree</th>\n",
       "      <td>506</td>\n",
       "      <td>26.84</td>\n",
       "    </tr>\n",
       "    <tr>\n",
       "      <th>University degree</th>\n",
       "      <td>480</td>\n",
       "      <td>25.46</td>\n",
       "    </tr>\n",
       "    <tr>\n",
       "      <th>Masters degree</th>\n",
       "      <td>283</td>\n",
       "      <td>15.01</td>\n",
       "    </tr>\n",
       "    <tr>\n",
       "      <th>Professional certificate/ diploma</th>\n",
       "      <td>270</td>\n",
       "      <td>14.32</td>\n",
       "    </tr>\n",
       "    <tr>\n",
       "      <th>Left school at 18 years</th>\n",
       "      <td>100</td>\n",
       "      <td>5.31</td>\n",
       "    </tr>\n",
       "    <tr>\n",
       "      <th>Left school at 16 years</th>\n",
       "      <td>99</td>\n",
       "      <td>5.25</td>\n",
       "    </tr>\n",
       "    <tr>\n",
       "      <th>Doctorate degree</th>\n",
       "      <td>89</td>\n",
       "      <td>4.72</td>\n",
       "    </tr>\n",
       "    <tr>\n",
       "      <th>Left school at 17 years</th>\n",
       "      <td>30</td>\n",
       "      <td>1.59</td>\n",
       "    </tr>\n",
       "    <tr>\n",
       "      <th>Left school before 16 years</th>\n",
       "      <td>28</td>\n",
       "      <td>1.49</td>\n",
       "    </tr>\n",
       "  </tbody>\n",
       "</table>\n",
       "</div>"
      ],
      "text/plain": [
       "                                                      N      %\n",
       "Some college or university, no certificate or d...  506  26.84\n",
       "University degree                                   480  25.46\n",
       "Masters degree                                      283  15.01\n",
       "Professional certificate/ diploma                   270  14.32\n",
       "Left school at 18 years                             100   5.31\n",
       "Left school at 16 years                              99   5.25\n",
       "Doctorate degree                                     89   4.72\n",
       "Left school at 17 years                              30   1.59\n",
       "Left school before 16 years                          28   1.49"
      ]
     },
     "execution_count": 69,
     "metadata": {},
     "output_type": "execute_result"
    }
   ],
   "source": [
    "df_count_perc(df,\"Educations\")"
   ]
  },
  {
   "cell_type": "markdown",
   "metadata": {},
   "source": [
    "# Analyse the population"
   ]
  },
  {
   "cell_type": "markdown",
   "metadata": {},
   "source": [
    "### Pie plot of the populations"
   ]
  },
  {
   "cell_type": "code",
   "execution_count": 80,
   "metadata": {},
   "outputs": [
    {
     "data": {
      "text/plain": [
       "<AxesSubplot:ylabel='Ages'>"
      ]
     },
     "execution_count": 80,
     "metadata": {},
     "output_type": "execute_result"
    },
    {
     "data": {
      "image/png": "[encoded data removed]",
      "text/plain": [
       "<Figure size 432x288 with 1 Axes>"
      ]
     },
     "metadata": {},
     "output_type": "display_data"
    }
   ],
   "source": [
    "df[\"Ages\"].value_counts().plot(kind=\"pie\")"
   ]
  },
  {
   "cell_type": "code",
   "execution_count": 90,
   "metadata": {},
   "outputs": [
    {
     "data": {
      "text/plain": [
       "<AxesSubplot:ylabel='Genders'>"
      ]
     },
     "execution_count": 90,
     "metadata": {},
     "output_type": "execute_result"
    },
    {
     "data": {
      "image/png": "[encoded data removed]",
      "text/plain": [
       "<Figure size 432x288 with 1 Axes>"
      ]
     },
     "metadata": {},
     "output_type": "display_data"
    }
   ],
   "source": [
    "df[\"Genders\"].value_counts().plot(kind=\"pie\")"
   ]
  },
  {
   "cell_type": "code",
   "execution_count": 91,
   "metadata": {},
   "outputs": [
    {
     "data": {
      "text/plain": [
       "<AxesSubplot:ylabel='Countries'>"
      ]
     },
     "execution_count": 91,
     "metadata": {},
     "output_type": "execute_result"
    },
    {
     "data": {
      "image/png": "[encoded data removed]",
      "text/plain": [
       "<Figure size 432x288 with 1 Axes>"
      ]
     },
     "metadata": {},
     "output_type": "display_data"
    }
   ],
   "source": [
    "df[\"Countries\"].value_counts().plot(kind=\"pie\")"
   ]
  },
  {
   "cell_type": "code",
   "execution_count": 92,
   "metadata": {},
   "outputs": [
    {
     "data": {
      "text/plain": [
       "<AxesSubplot:ylabel='Ethnicities'>"
      ]
     },
     "execution_count": 92,
     "metadata": {},
     "output_type": "execute_result"
    },
    {
     "data": {
      "image/png": "[encoded data removed]",
      "text/plain": [
       "<Figure size 432x288 with 1 Axes>"
      ]
     },
     "metadata": {},
     "output_type": "display_data"
    }
   ],
   "source": [
    "df[\"Ethnicities\"].value_counts().plot(kind=\"pie\")"
   ]
  },
  {
   "cell_type": "code",
   "execution_count": 93,
   "metadata": {},
   "outputs": [
    {
     "data": {
      "text/plain": [
       "<AxesSubplot:ylabel='Educations'>"
      ]
     },
     "execution_count": 93,
     "metadata": {},
     "output_type": "execute_result"
    },
    {
     "data": {
      "image/png": "[encoded data removed]",
      "text/plain": [
       "<Figure size 432x288 with 1 Axes>"
      ]
     },
     "metadata": {},
     "output_type": "display_data"
    }
   ],
   "source": [
    "df[\"Educations\"].value_counts().plot(kind=\"pie\")"
   ]
  },
  {
   "cell_type": "markdown",
   "metadata": {},
   "source": [
    "### Crossing data"
   ]
  },
  {
   "cell_type": "code",
   "execution_count": 101,
   "metadata": {},
   "outputs": [
    {
     "data": {
      "text/plain": [
       "Text(0.5, 1.0, 'Number of people according to their Age/Gender')"
      ]
     },
     "execution_count": 101,
     "metadata": {},
     "output_type": "execute_result"
    },
    {
     "data": {
      "image/png": "[encoded data removed]",
      "text/plain": [
       "<Figure size 432x288 with 1 Axes>"
      ]
     },
     "metadata": {
      "needs_background": "light"
     },
     "output_type": "display_data"
    }
   ],
   "source": [
    "ax = sns.countplot(x=\"Ages\",hue=\"Genders\" ,data=df)\n",
    "ax.set_title(\"Number of people according to their Age/Gender\")"
   ]
  },
  {
   "cell_type": "code",
   "execution_count": 129,
   "metadata": {},
   "outputs": [
    {
     "data": {
      "text/plain": [
       "Text(0.5, 0.98, 'Number of F/M in each country according to their age')"
      ]
     },
     "execution_count": 129,
     "metadata": {},
     "output_type": "execute_result"
    },
    {
     "data": {
      "image/png": "[encoded data removed]",
      "text/plain": [
       "<Figure size 787.85x360 with 2 Axes>"
      ]
     },
     "metadata": {},
     "output_type": "display_data"
    }
   ],
   "source": [
    "g = sns.catplot(x=\"Countries\", hue=\"Ages\", col=\"Genders\",\n",
    "                data=df, kind=\"count\");\n",
    "g.fig.suptitle(\"Number of F/M in each country according to their age\")"
   ]
  },
  {
   "cell_type": "code",
   "execution_count": 131,
   "metadata": {},
   "outputs": [
    {
     "data": {
      "image/png": "[encoded data removed]",
      "text/plain": [
       "<Figure size 851.6x360 with 2 Axes>"
      ]
     },
     "metadata": {},
     "output_type": "display_data"
    }
   ],
   "source": [
    "ax = sns.catplot(x=\"Countries\",hue=\"Ethnicities\",col=\"Genders\" ,data=df,kind=\"count\")\n",
    "sns.set(rc={'figure.figsize':(15,8.27)})"
   ]
  },
  {
   "cell_type": "code",
   "execution_count": 132,
   "metadata": {},
   "outputs": [
    {
     "data": {
      "image/png": "[encoded data removed]",
      "text/plain": [
       "<Figure size 1007.23x360 with 2 Axes>"
      ]
     },
     "metadata": {},
     "output_type": "display_data"
    }
   ],
   "source": [
    "ax = sns.catplot(x=\"Countries\",hue=\"Educations\",col=\"Genders\" ,data=df,kind=\"count\")\n",
    "sns.set(rc={'figure.figsize':(15,8.27)})"
   ]
  },
  {
   "cell_type": "code",
   "execution_count": 133,
   "metadata": {},
   "outputs": [],
   "source": [
    "# Drugs"
   ]
  },
  {
   "cell_type": "code",
   "execution_count": null,
   "metadata": {},
   "outputs": [],
   "source": [
    "drugs=[\"Alcohol Consum\", \"Amphet Consum\", \"Amyl Consum\", \"Benzos Consum\", \"Caff Consum\", \"Cannabis Consum\", \"Choc Consum\", \"Coke Consum\", \"Crack Consum\", \"Ecstasy Consum\", \"Heroin Consum\", \"Ketamine Consum\", \"Legalh Consum\", \"LSD Consum\", \"Meth Consum\", \"Mushrooms Consum\", \"Nicotine Consum\", \"Semeron Consum\", \"VSA Consum\"]\n",
    "for i in drugs:\n",
    "    df[i] = dataset[i].map({'CL0': 0, 'CL1': 1, 'CL2': 2, 'CL3': 3, 'CL4': 4, 'CL5': 5, 'CL6': 6})"
   ]
  }
 ],
 "metadata": {
  "kernelspec": {
   "display_name": "Python 3",
   "language": "python",
   "name": "python3"
  },
  "language_info": {
   "codemirror_mode": {
    "name": "ipython",
    "version": 3
   },
   "file_extension": ".py",
   "mimetype": "text/x-python",
   "name": "python",
   "nbconvert_exporter": "python",
   "pygments_lexer": "ipython3",
   "version": "3.8.5"
  }
 },
 "nbformat": 4,
 "nbformat_minor": 5
}
